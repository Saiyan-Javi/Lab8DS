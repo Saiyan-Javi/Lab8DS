{
 "cells": [
  {
   "cell_type": "code",
   "execution_count": 0,
   "metadata": {
    "application/vnd.databricks.v1+cell": {
     "cellMetadata": {
      "byteLimit": 2048000,
      "rowLimit": 10000
     },
     "inputWidgets": {},
     "nuid": "217414ab-1f04-4368-aea3-b90e1d86f9e1",
     "showTitle": false,
     "tableResultSettingsMap": {},
     "title": ""
    }
   },
   "outputs": [],
   "source": [
    "import pandas as pd\n"
   ]
  },
  {
   "cell_type": "code",
   "execution_count": 0,
   "metadata": {
    "application/vnd.databricks.v1+cell": {
     "cellMetadata": {
      "byteLimit": 2048000,
      "rowLimit": 10000
     },
     "inputWidgets": {},
     "nuid": "117c6fcd-4322-4169-bb77-7ac6516dcf51",
     "showTitle": false,
     "tableResultSettingsMap": {},
     "title": ""
    }
   },
   "outputs": [
    {
     "name": "stderr",
     "output_type": "stream",
     "text": [
      "/local_disk0/.ephemeral_nfs/envs/pythonEnv-fa665fde-9db0-4647-9053-f14a39563430/lib/python3.11/site-packages/openpyxl/styles/stylesheet.py:237: UserWarning: Workbook contains no default style, apply openpyxl's default\n",
      "  warn(\"Workbook contains no default style, apply openpyxl's default\")\n",
      "/local_disk0/.ephemeral_nfs/envs/pythonEnv-fa665fde-9db0-4647-9053-f14a39563430/lib/python3.11/site-packages/openpyxl/styles/stylesheet.py:237: UserWarning: Workbook contains no default style, apply openpyxl's default\n",
      "  warn(\"Workbook contains no default style, apply openpyxl's default\")\n"
     ]
    }
   ],
   "source": [
    "df2014 = pd.read_excel('Vehiculos 2014.xlsx')\n",
    "df2015 = pd.read_excel('Vehiculos 2015.xlsx')  \n",
    "df2016 = pd.read_excel('Vehiculos 2016.xlsx')\n",
    "df2017 = pd.read_excel('Vehiculos 2017.xlsx')\n",
    "df2018 = pd.read_excel('Vehiculos 2018.xlsx')\n",
    "df2019 = pd.read_excel('Vehiculos 2019.xlsx')\n",
    "df2020 = pd.read_excel('Vehiculos 2020.xlsx')\n",
    "df2021 = pd.read_excel('Vehiculos 2021.xlsx')\n",
    "df2022 = pd.read_excel('Vehiculos 2022.xlsx')\n",
    "df2023 = pd.read_excel('Vehiculos 2023.xlsx')\n",
    "\n"
   ]
  },
  {
   "cell_type": "code",
   "execution_count": 0,
   "metadata": {
    "application/vnd.databricks.v1+cell": {
     "cellMetadata": {
      "byteLimit": 2048000,
      "rowLimit": 10000
     },
     "inputWidgets": {},
     "nuid": "7fe77872-47e9-4d02-9d34-f6b28309e057",
     "showTitle": false,
     "tableResultSettingsMap": {},
     "title": ""
    }
   },
   "outputs": [],
   "source": [
    "df2014.drop(\"num_correlativo\", axis=1, inplace=True)\n",
    "df2014.drop(\"corre_base\", axis=1, inplace=True)\n",
    "df2014[\"año_ocu\"] = 2014 "
   ]
  },
  {
   "cell_type": "code",
   "execution_count": 0,
   "metadata": {
    "application/vnd.databricks.v1+cell": {
     "cellMetadata": {
      "byteLimit": 2048000,
      "rowLimit": 10000
     },
     "inputWidgets": {},
     "nuid": "56dac694-6719-4019-a269-e99bc2261665",
     "showTitle": false,
     "tableResultSettingsMap": {},
     "title": ""
    }
   },
   "outputs": [],
   "source": [
    "df2015.drop(\"núm_corre\", axis=1, inplace=True)\n",
    "df2015[\"año_ocu\"] = 2015"
   ]
  },
  {
   "cell_type": "code",
   "execution_count": 0,
   "metadata": {
    "application/vnd.databricks.v1+cell": {
     "cellMetadata": {
      "byteLimit": 2048000,
      "rowLimit": 10000
     },
     "inputWidgets": {},
     "nuid": "eca00bbc-34f4-4c9a-85f4-099911d0d3c0",
     "showTitle": false,
     "tableResultSettingsMap": {},
     "title": ""
    }
   },
   "outputs": [],
   "source": [
    "df2016.drop(\"núm_corre\", axis=1, inplace=True)\n",
    "df2016[\"año_ocu\"] = 2016"
   ]
  },
  {
   "cell_type": "code",
   "execution_count": 0,
   "metadata": {
    "application/vnd.databricks.v1+cell": {
     "cellMetadata": {
      "byteLimit": 2048000,
      "rowLimit": 10000
     },
     "inputWidgets": {},
     "nuid": "24b1c7e1-16d5-4345-984b-b02fa567c381",
     "showTitle": false,
     "tableResultSettingsMap": {},
     "title": ""
    }
   },
   "outputs": [],
   "source": [
    "df2017.drop(\"núm_corre\", axis=1, inplace=True)\n",
    "df2018.drop(\"núm_corre\", axis=1, inplace=True)\n",
    "df2019.drop(\"núm_corre\", axis=1, inplace=True)\n",
    "df2020.drop(\"Núm_corre\", axis=1, inplace=True)\n",
    "df2021.drop(\"núm_corre\", axis=1, inplace=True)\n",
    "df2022.drop(\"núm_corre\", axis=1, inplace=True)\n",
    "df2023.drop(\"núm_corre\", axis=1, inplace=True)\n"
   ]
  },
  {
   "cell_type": "code",
   "execution_count": 0,
   "metadata": {
    "application/vnd.databricks.v1+cell": {
     "cellMetadata": {
      "byteLimit": 2048000,
      "rowLimit": 10000
     },
     "inputWidgets": {},
     "nuid": "0011f853-dd90-418d-8281-679ee5023e63",
     "showTitle": false,
     "tableResultSettingsMap": {},
     "title": ""
    }
   },
   "outputs": [],
   "source": [
    "import unicodedata\n",
    "\n",
    "def normalizar_columnas(df):\n",
    "    df.columns = [\n",
    "        ''.join(\n",
    "            c for c in unicodedata.normalize('NFKD', col)\n",
    "            if not unicodedata.combining(c)\n",
    "        ).lower()\n",
    "        for col in df.columns\n",
    "    ]\n",
    "    return df\n",
    "\n",
    "df2014 = normalizar_columnas(df2014)\n",
    "df2015 = normalizar_columnas(df2015)\n",
    "df2016 = normalizar_columnas(df2016)\n",
    "df2017 = normalizar_columnas(df2017)\n",
    "df2018 = normalizar_columnas(df2018)\n",
    "df2019 = normalizar_columnas(df2019)\n",
    "df2020 = normalizar_columnas(df2020)\n",
    "df2021 = normalizar_columnas(df2021)\n",
    "df2022 = normalizar_columnas(df2022)\n",
    "df2023 = normalizar_columnas(df2023)"
   ]
  },
  {
   "cell_type": "code",
   "execution_count": 0,
   "metadata": {
    "application/vnd.databricks.v1+cell": {
     "cellMetadata": {
      "byteLimit": 2048000,
      "rowLimit": 10000
     },
     "inputWidgets": {},
     "nuid": "dda8321f-e23d-42bf-bbad-bea500cac6c0",
     "showTitle": false,
     "tableResultSettingsMap": {},
     "title": ""
    }
   },
   "outputs": [],
   "source": [
    "df2014 = df2014[sorted(df2014.columns)]\n",
    "df2015 = df2015[sorted(df2015.columns)]\n",
    "df2016 = df2016[sorted(df2016.columns)]\n",
    "df2017 = df2017[sorted(df2017.columns)]\n",
    "df2018 = df2018[sorted(df2018.columns)]\n",
    "df2019 = df2019[sorted(df2019.columns)]\n",
    "df2020 = df2020[sorted(df2020.columns)]\n",
    "df2021 = df2021[sorted(df2021.columns)]\n",
    "df2022 = df2022[sorted(df2022.columns)]\n",
    "df2023 = df2023[sorted(df2023.columns)]"
   ]
  },
  {
   "cell_type": "code",
   "execution_count": 0,
   "metadata": {
    "application/vnd.databricks.v1+cell": {
     "cellMetadata": {
      "byteLimit": 2048000,
      "rowLimit": 10000
     },
     "inputWidgets": {},
     "nuid": "d08d545c-0242-4f8a-9ff1-3f0ed4699da2",
     "showTitle": false,
     "tableResultSettingsMap": {},
     "title": ""
    }
   },
   "outputs": [
    {
     "name": "stdout",
     "output_type": "stream",
     "text": [
      "2014: ['ano_ocu', 'area_geo_ocu', 'color_veh', 'depto_ocu', 'dia_ocu', 'dia_sem_ocu', 'edad_con', 'estado_con', 'g_edad', 'g_hora', 'hora_ocu', 'marca_veh', 'mayor_menor', 'mes_ocu', 'modelo_veh', 'mupio_ocu', 'sexo_con', 'tipo_eve', 'tipo_veh', 'zona_ocu']\n",
      "2015: ['ano_ocu', 'area_geo_ocu', 'color_veh', 'depto_ocu', 'dia_ocu', 'dia_sem_ocu', 'edad_per', 'edad_quinquenales', 'estado_con', 'g_edad_60ymas', 'g_edad_80ymas', 'g_hora', 'g_hora_5', 'g_modelo_veh', 'hora_ocu', 'marca_veh', 'mayor_menor', 'mes_ocu', 'modelo_veh', 'mupio_ocu', 'sexo_per', 'tipo_eve', 'tipo_veh', 'zona_ocu']\n",
      "2016: ['ano_ocu', 'area_geo_ocu', 'color_veh', 'depto_ocu', 'dia_ocu', 'dia_sem_ocu', 'edad_per', 'edad_quinquenales', 'estado_con', 'g_edad_60ymas', 'g_edad_80ymas', 'g_hora', 'g_hora_5', 'g_modelo_veh', 'hora_ocu', 'marca_veh', 'mayor_menor', 'mes_ocu', 'modelo_veh', 'mupio_ocu', 'sexo_per', 'tipo_eve', 'tipo_veh', 'zona_ocu']\n",
      "2017: ['ano_ocu', 'color_veh', 'depto_ocu', 'dia_ocu', 'dia_sem_ocu', 'edad_per', 'edad_quinquenales', 'estado_con', 'g_edad_60ymas', 'g_edad_80ymas', 'g_hora', 'g_hora_5', 'g_modelo_veh', 'hora_ocu', 'marca_veh', 'mayor_menor', 'mes_ocu', 'modelo_veh', 'mupio_ocu', 'sexo_per', 'tipo_eve', 'tipo_veh', 'zona_ocu']\n",
      "2018: ['ano_ocu', 'color_veh', 'depto_ocu', 'dia_ocu', 'dia_sem_ocu', 'edad_per', 'edad_quinquenales', 'estado_con', 'g_edad_60ymas', 'g_edad_80ymas', 'g_hora', 'g_hora_5', 'g_modelo_veh', 'hora_ocu', 'marca_veh', 'mayor_menor', 'mes_ocu', 'modelo_veh', 'mupio_ocu', 'sexo_per', 'tipo_eve', 'tipo_veh', 'zona_ocu']\n",
      "2019: ['ano_ocu', 'color_veh', 'depto_ocu', 'dia_ocu', 'dia_sem_ocu', 'edad_per', 'edad_quinquenales', 'estado_con', 'g_edad_60ymas', 'g_edad_80ymas', 'g_hora', 'g_hora_5', 'g_modelo_veh', 'hora_ocu', 'marca_veh', 'mayor_menor', 'mes_ocu', 'modelo_veh', 'mupio_ocu', 'sexo_per', 'tipo_eve', 'tipo_veh', 'zona_ocu']\n",
      "2020: ['ano_ocu', 'color_veh', 'depto_ocu', 'dia_ocu', 'dia_sem_ocu', 'edad_per', 'edad_quinquenales', 'estado_con', 'g_edad_60ymas', 'g_edad_80ymas', 'g_hora', 'g_hora_5', 'g_modelo_veh', 'hora_ocu', 'marca_veh', 'mayor_menor', 'mes_ocu', 'modelo_veh', 'mupio_ocu', 'sexo_per', 'tipo_eve', 'tipo_veh', 'zona_ocu']\n",
      "2021: ['ano_ocu', 'color_veh', 'depto_ocu', 'dia_ocu', 'dia_sem_ocu', 'edad_per', 'edad_quinquenales', 'estado_con', 'g_edad_60ymas', 'g_edad_80ymas', 'g_hora', 'g_hora_5', 'g_modelo_veh', 'hora_ocu', 'marca_veh', 'mayor_menor', 'mes_ocu', 'modelo_veh', 'mupio_ocu', 'sexo_per', 'tipo_eve', 'tipo_veh', 'zona_ciudad', 'zona_ocu']\n",
      "2022: ['ano_ocu', 'color_veh', 'depto_ocu', 'dia_ocu', 'dia_sem_ocu', 'edad_per', 'edad_quinquenales', 'estado_con', 'g_edad_60ymas', 'g_edad_80ymas', 'g_hora', 'g_hora_5', 'g_modelo_veh', 'hora_ocu', 'marca_veh', 'mayor_menor', 'mes_ocu', 'modelo_veh', 'mupio_ocu', 'sexo_per', 'tipo_eve', 'tipo_veh', 'zona_ocu']\n",
      "2023: ['ano_ocu', 'color_veh', 'depto_ocu', 'dia_ocu', 'dia_sem_ocu', 'edad_per', 'edad_quinquenales', 'estado_con', 'g_edad_60ymas', 'g_edad_80ymas', 'g_hora', 'g_hora_5', 'g_modelo_veh', 'hora_ocu', 'marca_veh', 'mayor_menor', 'mes_ocu', 'modelo_veh', 'mupio_ocu', 'sexo_per', 'tipo_eve', 'tipo_veh', 'zona_ocu']\n"
     ]
    }
   ],
   "source": [
    "print(\"2014:\", df2014.columns.tolist())\n",
    "print(\"2015:\", df2015.columns.tolist())\n",
    "print(\"2016:\", df2016.columns.tolist())\n",
    "print(\"2017:\", df2017.columns.tolist())\n",
    "print(\"2018:\", df2018.columns.tolist())\n",
    "print(\"2019:\", df2019.columns.tolist())\n",
    "print(\"2020:\", df2020.columns.tolist())\n",
    "print(\"2021:\", df2021.columns.tolist())\n",
    "print(\"2022:\", df2022.columns.tolist())\n",
    "print(\"2023:\", df2023.columns.tolist())"
   ]
  },
  {
   "cell_type": "code",
   "execution_count": 0,
   "metadata": {
    "application/vnd.databricks.v1+cell": {
     "cellMetadata": {
      "byteLimit": 2048000,
      "rowLimit": 10000
     },
     "inputWidgets": {},
     "nuid": "d4bb40bd-d0ea-4442-bc7a-ed26c2926cac",
     "showTitle": false,
     "tableResultSettingsMap": {},
     "title": ""
    }
   },
   "outputs": [],
   "source": [
    "df2014.drop(\"area_geo_ocu\", axis=1, inplace=True)\n",
    "df2015.drop(\"area_geo_ocu\", axis=1, inplace=True)\n",
    "df2016.drop(\"area_geo_ocu\", axis=1, inplace=True)"
   ]
  },
  {
   "cell_type": "code",
   "execution_count": 0,
   "metadata": {
    "application/vnd.databricks.v1+cell": {
     "cellMetadata": {
      "byteLimit": 2048000,
      "rowLimit": 10000
     },
     "inputWidgets": {},
     "nuid": "64386b5f-fbc8-4876-8b9c-95535e8068ad",
     "showTitle": false,
     "tableResultSettingsMap": {},
     "title": ""
    }
   },
   "outputs": [],
   "source": [
    "# Cambiar el nombre de la columna 'edad_con' a 'edad_per' en df2014\n",
    "df2014.rename(columns={'edad_con': 'edad_per'}, inplace=True)\n",
    "\n",
    "# Crear la columna 'edad_quinquenales' en base a 'edad_per'\n",
    "def calcular_quinquenal(edad):\n",
    "    try:\n",
    "        edad = int(edad)\n",
    "        if 0 <= edad <= 89:\n",
    "            return (edad // 5) + 1\n",
    "        elif edad >= 90:\n",
    "            return 18\n",
    "        else:\n",
    "            return 18\n",
    "    except:\n",
    "        return 18\n",
    "\n",
    "df2014['edad_quinquenales'] = df2014['edad_per'].apply(calcular_quinquenal)"
   ]
  },
  {
   "cell_type": "code",
   "execution_count": 0,
   "metadata": {
    "application/vnd.databricks.v1+cell": {
     "cellMetadata": {
      "byteLimit": 2048000,
      "rowLimit": 10000
     },
     "inputWidgets": {},
     "nuid": "c910998e-65d3-42ac-abef-ae00183cb013",
     "showTitle": false,
     "tableResultSettingsMap": {},
     "title": ""
    }
   },
   "outputs": [],
   "source": [
    "# Cambiar el nombre de la columna 'g_edad' a 'g_edad_60ymas' en df2014\n",
    "df2014.rename(columns={'g_edad': 'g_edad_60ymas'}, inplace=True)\n",
    "\n",
    "# Crear la columna 'g_edad_80ymas' en base a 'edad_per'\n",
    "def calcular_g_edad_80ymas(edad):\n",
    "    try:\n",
    "        edad = int(edad)\n",
    "        if edad == 999:\n",
    "            return 16\n",
    "        elif edad < 15:\n",
    "            return 1\n",
    "        elif 15 <= edad <= 19:\n",
    "            return 2\n",
    "        elif 20 <= edad <= 24:\n",
    "            return 3\n",
    "        elif 25 <= edad <= 29:\n",
    "            return 4\n",
    "        elif 30 <= edad <= 34:\n",
    "            return 5\n",
    "        elif 35 <= edad <= 39:\n",
    "            return 6\n",
    "        elif 40 <= edad <= 44:\n",
    "            return 7\n",
    "        elif 45 <= edad <= 49:\n",
    "            return 8\n",
    "        elif 50 <= edad <= 54:\n",
    "            return 9\n",
    "        elif 55 <= edad <= 59:\n",
    "            return 10\n",
    "        elif 60 <= edad <= 64:\n",
    "            return 11\n",
    "        elif 65 <= edad <= 69:\n",
    "            return 12\n",
    "        elif 70 <= edad <= 74:\n",
    "            return 13\n",
    "        elif 75 <= edad <= 80:\n",
    "            return 14\n",
    "        else:\n",
    "            return 15\n",
    "    except:\n",
    "        return None\n",
    "\n",
    "df2014['g_edad_80ymas'] = df2014['edad_per'].apply(calcular_g_edad_80ymas)"
   ]
  },
  {
   "cell_type": "code",
   "execution_count": 0,
   "metadata": {
    "application/vnd.databricks.v1+cell": {
     "cellMetadata": {
      "byteLimit": 2048000,
      "rowLimit": 10000
     },
     "inputWidgets": {},
     "nuid": "687fe386-4479-4f42-aded-7bb4b80fb95f",
     "showTitle": false,
     "tableResultSettingsMap": {},
     "title": ""
    }
   },
   "outputs": [],
   "source": [
    "def calcular_g_hora_5(valor):\n",
    "    if valor in [1, 2]:\n",
    "        return 1\n",
    "    elif valor == 3:\n",
    "        return 2\n",
    "    elif valor == 4:\n",
    "        return 3\n",
    "    else:\n",
    "        return 4\n",
    "\n",
    "df2014['g_hora_5'] = df2014['g_hora'].apply(calcular_g_hora_5)"
   ]
  },
  {
   "cell_type": "code",
   "execution_count": 0,
   "metadata": {
    "application/vnd.databricks.v1+cell": {
     "cellMetadata": {
      "byteLimit": 2048000,
      "rowLimit": 10000
     },
     "inputWidgets": {},
     "nuid": "a4cd5d71-05b5-4e26-9d5f-0ee464106c29",
     "showTitle": false,
     "tableResultSettingsMap": {},
     "title": ""
    }
   },
   "outputs": [],
   "source": [
    "def calcular_g_modelo_veh(modelo):\n",
    "    try:\n",
    "        modelo = int(modelo)\n",
    "        if 1970 <= modelo <= 1979:\n",
    "            return 1\n",
    "        elif 1980 <= modelo <= 1989:\n",
    "            return 2\n",
    "        elif 1990 <= modelo <= 1999:\n",
    "            return 3\n",
    "        elif 2000 <= modelo <= 2009:\n",
    "            return 4\n",
    "        elif modelo >= 2010:\n",
    "            return 5\n",
    "        else:\n",
    "            return None\n",
    "    except:\n",
    "        return None\n",
    "\n",
    "df2014['g_modelo_veh'] = df2014['modelo_veh'].apply(calcular_g_modelo_veh)"
   ]
  },
  {
   "cell_type": "code",
   "execution_count": 0,
   "metadata": {
    "application/vnd.databricks.v1+cell": {
     "cellMetadata": {
      "byteLimit": 2048000,
      "rowLimit": 10000
     },
     "inputWidgets": {},
     "nuid": "0432263b-3a59-4bb9-a249-56d3580d703b",
     "showTitle": false,
     "tableResultSettingsMap": {},
     "title": ""
    }
   },
   "outputs": [],
   "source": [
    "df2014.rename(columns={'sexo_con': 'sexo_per'}, inplace=True)"
   ]
  },
  {
   "cell_type": "code",
   "execution_count": 0,
   "metadata": {
    "application/vnd.databricks.v1+cell": {
     "cellMetadata": {
      "byteLimit": 2048000,
      "rowLimit": 10000
     },
     "inputWidgets": {},
     "nuid": "da91eaff-a3f9-4d29-a73a-7e143e1237bd",
     "showTitle": false,
     "tableResultSettingsMap": {},
     "title": ""
    }
   },
   "outputs": [],
   "source": [
    "df2021.drop('zona_ciudad', axis=1, inplace=True)"
   ]
  },
  {
   "cell_type": "code",
   "execution_count": 0,
   "metadata": {
    "application/vnd.databricks.v1+cell": {
     "cellMetadata": {
      "byteLimit": 2048000,
      "rowLimit": 10000
     },
     "inputWidgets": {},
     "nuid": "9ea5be9c-c113-497b-bdfb-8d969a9cfc4d",
     "showTitle": false,
     "tableResultSettingsMap": {},
     "title": ""
    }
   },
   "outputs": [
    {
     "name": "stdout",
     "output_type": "stream",
     "text": [
      "2014: ['ano_ocu', 'color_veh', 'depto_ocu', 'dia_ocu', 'dia_sem_ocu', 'edad_per', 'edad_quinquenales', 'estado_con', 'g_edad_60ymas', 'g_edad_80ymas', 'g_hora', 'g_hora_5', 'g_modelo_veh', 'hora_ocu', 'marca_veh', 'mayor_menor', 'mes_ocu', 'modelo_veh', 'mupio_ocu', 'sexo_per', 'tipo_eve', 'tipo_veh', 'zona_ocu']\n",
      "2015: ['ano_ocu', 'color_veh', 'depto_ocu', 'dia_ocu', 'dia_sem_ocu', 'edad_per', 'edad_quinquenales', 'estado_con', 'g_edad_60ymas', 'g_edad_80ymas', 'g_hora', 'g_hora_5', 'g_modelo_veh', 'hora_ocu', 'marca_veh', 'mayor_menor', 'mes_ocu', 'modelo_veh', 'mupio_ocu', 'sexo_per', 'tipo_eve', 'tipo_veh', 'zona_ocu']\n",
      "2016: ['ano_ocu', 'color_veh', 'depto_ocu', 'dia_ocu', 'dia_sem_ocu', 'edad_per', 'edad_quinquenales', 'estado_con', 'g_edad_60ymas', 'g_edad_80ymas', 'g_hora', 'g_hora_5', 'g_modelo_veh', 'hora_ocu', 'marca_veh', 'mayor_menor', 'mes_ocu', 'modelo_veh', 'mupio_ocu', 'sexo_per', 'tipo_eve', 'tipo_veh', 'zona_ocu']\n",
      "2017: ['ano_ocu', 'color_veh', 'depto_ocu', 'dia_ocu', 'dia_sem_ocu', 'edad_per', 'edad_quinquenales', 'estado_con', 'g_edad_60ymas', 'g_edad_80ymas', 'g_hora', 'g_hora_5', 'g_modelo_veh', 'hora_ocu', 'marca_veh', 'mayor_menor', 'mes_ocu', 'modelo_veh', 'mupio_ocu', 'sexo_per', 'tipo_eve', 'tipo_veh', 'zona_ocu']\n",
      "2018: ['ano_ocu', 'color_veh', 'depto_ocu', 'dia_ocu', 'dia_sem_ocu', 'edad_per', 'edad_quinquenales', 'estado_con', 'g_edad_60ymas', 'g_edad_80ymas', 'g_hora', 'g_hora_5', 'g_modelo_veh', 'hora_ocu', 'marca_veh', 'mayor_menor', 'mes_ocu', 'modelo_veh', 'mupio_ocu', 'sexo_per', 'tipo_eve', 'tipo_veh', 'zona_ocu']\n",
      "2019: ['ano_ocu', 'color_veh', 'depto_ocu', 'dia_ocu', 'dia_sem_ocu', 'edad_per', 'edad_quinquenales', 'estado_con', 'g_edad_60ymas', 'g_edad_80ymas', 'g_hora', 'g_hora_5', 'g_modelo_veh', 'hora_ocu', 'marca_veh', 'mayor_menor', 'mes_ocu', 'modelo_veh', 'mupio_ocu', 'sexo_per', 'tipo_eve', 'tipo_veh', 'zona_ocu']\n",
      "2020: ['ano_ocu', 'color_veh', 'depto_ocu', 'dia_ocu', 'dia_sem_ocu', 'edad_per', 'edad_quinquenales', 'estado_con', 'g_edad_60ymas', 'g_edad_80ymas', 'g_hora', 'g_hora_5', 'g_modelo_veh', 'hora_ocu', 'marca_veh', 'mayor_menor', 'mes_ocu', 'modelo_veh', 'mupio_ocu', 'sexo_per', 'tipo_eve', 'tipo_veh', 'zona_ocu']\n",
      "2021: ['ano_ocu', 'color_veh', 'depto_ocu', 'dia_ocu', 'dia_sem_ocu', 'edad_per', 'edad_quinquenales', 'estado_con', 'g_edad_60ymas', 'g_edad_80ymas', 'g_hora', 'g_hora_5', 'g_modelo_veh', 'hora_ocu', 'marca_veh', 'mayor_menor', 'mes_ocu', 'modelo_veh', 'mupio_ocu', 'sexo_per', 'tipo_eve', 'tipo_veh', 'zona_ocu']\n",
      "2022: ['ano_ocu', 'color_veh', 'depto_ocu', 'dia_ocu', 'dia_sem_ocu', 'edad_per', 'edad_quinquenales', 'estado_con', 'g_edad_60ymas', 'g_edad_80ymas', 'g_hora', 'g_hora_5', 'g_modelo_veh', 'hora_ocu', 'marca_veh', 'mayor_menor', 'mes_ocu', 'modelo_veh', 'mupio_ocu', 'sexo_per', 'tipo_eve', 'tipo_veh', 'zona_ocu']\n",
      "2023: ['ano_ocu', 'color_veh', 'depto_ocu', 'dia_ocu', 'dia_sem_ocu', 'edad_per', 'edad_quinquenales', 'estado_con', 'g_edad_60ymas', 'g_edad_80ymas', 'g_hora', 'g_hora_5', 'g_modelo_veh', 'hora_ocu', 'marca_veh', 'mayor_menor', 'mes_ocu', 'modelo_veh', 'mupio_ocu', 'sexo_per', 'tipo_eve', 'tipo_veh', 'zona_ocu']\n"
     ]
    }
   ],
   "source": [
    "df2014 = df2014[sorted(df2014.columns)]\n",
    "df2015 = df2015[sorted(df2015.columns)]\n",
    "df2016 = df2016[sorted(df2016.columns)]\n",
    "df2017 = df2017[sorted(df2017.columns)]\n",
    "df2018 = df2018[sorted(df2018.columns)]\n",
    "df2019 = df2019[sorted(df2019.columns)]\n",
    "df2020 = df2020[sorted(df2020.columns)]\n",
    "df2021 = df2021[sorted(df2021.columns)]\n",
    "df2022 = df2022[sorted(df2022.columns)]\n",
    "df2023 = df2023[sorted(df2023.columns)]\n",
    "\n",
    "print(\"2014:\", df2014.columns.tolist())\n",
    "print(\"2015:\", df2015.columns.tolist())\n",
    "print(\"2016:\", df2016.columns.tolist())\n",
    "print(\"2017:\", df2017.columns.tolist())\n",
    "print(\"2018:\", df2018.columns.tolist())\n",
    "print(\"2019:\", df2019.columns.tolist())\n",
    "print(\"2020:\", df2020.columns.tolist())\n",
    "print(\"2021:\", df2021.columns.tolist())\n",
    "print(\"2022:\", df2022.columns.tolist())\n",
    "print(\"2023:\", df2023.columns.tolist())"
   ]
  },
  {
   "cell_type": "markdown",
   "metadata": {
    "application/vnd.databricks.v1+cell": {
     "cellMetadata": {},
     "inputWidgets": {},
     "nuid": "b0e23ded-e5b2-4824-b29f-b80ee51ce7e0",
     "showTitle": false,
     "tableResultSettingsMap": {},
     "title": ""
    }
   },
   "source": [
    "# Analisis por columnas #"
   ]
  },
  {
   "cell_type": "code",
   "execution_count": 0,
   "metadata": {
    "application/vnd.databricks.v1+cell": {
     "cellMetadata": {
      "byteLimit": 2048000,
      "rowLimit": 10000
     },
     "inputWidgets": {},
     "nuid": "29f49e85-041a-445a-b340-486dd252422b",
     "showTitle": false,
     "tableResultSettingsMap": {},
     "title": ""
    }
   },
   "outputs": [
    {
     "name": "stdout",
     "output_type": "stream",
     "text": [
      "\n",
      "Columna: ano_ocu\n",
      "  2014: [2014]\n",
      "  2015: [2015]\n",
      "  2016: [2016]\n",
      "  2017: [2017]\n",
      "  2018: [2018]\n",
      "  2019: [2019]\n",
      "  2020: [2020]\n",
      "  2021: [2021]\n",
      "  2022: [2022]\n",
      "  2023: [2023]\n",
      "\n",
      "Columna: color_veh\n",
      "  2014: [ 5 99 11  1  7  2 12  3  4  6  8 10  9 14 16 15]\n",
      "  2015: [11  5  3  1  6  4  7  9  2 99  8 14 10 16 12 15]\n",
      "  2016: [11  5  3  1  6  4  7  9  2 99  8 14 10 16 12 15]\n",
      "  2017: [ 7  2  1  4  5 99  9 10  6  3  8 11 17 14 15 12 16]\n",
      "  2018: [ 5  2  1  6  9 14  3 11  4  8 99  7 10 15 17 12 16]\n",
      "  2019: [ 5 14  8  3  1 99  9  2  6  4  7 11 10 16 15 17 12]\n",
      "  2020: [ 3  4 99  5  6  1  2 15  9 14 11  8  7 10 17 12 16]\n",
      "  2021: [ 4  1  5 99  2  7  8  3  6  9 11 10 15 17 14 12 16]\n",
      "  2022: ['Azul' 'Celeste' 'Blanco' 'Ignorado' 'Amarillo' 'Negro' 'Verde' 'Rojo'\n",
      " 'Gris' 'Turquesa' 'Corinto' 'Café' 'Anaranjado' 'Beige' 'Morado' 'Rosado'\n",
      " 'Varios colores' 'Marfil']\n",
      "  2023: ['Negro' 'Gris' 'Azul' 'Blanco' 'Rojo' 'Ignorado' 'Corinto' 'Verde'\n",
      " 'Amarillo' 'Café' 'Anaranjado' 'Turquesa' 'Beige' 'Morado' 'Celeste'\n",
      " 'Rosado' 'Marfil' 'Varios colores']\n",
      "\n",
      "Columna: depto_ocu\n",
      "  2014: [ 1  5 11 16 18  4 17 19 10 12  6  9  8 13  2 21  7 20 14 15 22  3]\n",
      "  2015: [ 1  6 11 15 21 20  5 12 16 18  7 19  3 22  9 17  4 10 13  2 14  8]\n",
      "  2016: [ 1  6 11 15 21 20  5 12 16 18  7 19  3 22  9 17  4 10 13  2 14  8]\n",
      "  2017: [ 1  5 13  8 16  2 17  7  4 10 20 19  6 21  3  9 15 14 18 12 22 11]\n",
      "  2018: [ 1 22 21 19  5  6 11 15 17 14  3  7  4 10 16 18 12 13  9 20  2  8]\n",
      "  2019: [ 1 21 20 19  5  6 10  9 12  8 15 18 17 14  7  4  3 22 16 11  2 13]\n",
      "  2020: [ 1 22 20  5  6 10 11  9 16 18 14  4 19 12  3 15 13  2 17 21  8  7]\n",
      "  2021: [ 1  6 11 15 18 17 20 19  5 13 16 12 14  4  7  9  2 10 21 22  3  8]\n",
      "  2022: ['Guatemala' 'Jutiapa' 'Jalapa' 'Zacapa' 'Escuintla' 'Suchitepéquez'\n",
      " 'Retalhuleu' 'Quetzaltenango' 'Alta Verapaz' 'El Progreso' 'Petén'\n",
      " 'Sololá' 'Chimaltenango' 'Sacatepéquez' 'Santa Rosa' 'Izabal'\n",
      " 'San Marcos' 'Totonicapán' 'Baja Verapaz' 'Quiché' 'Chiquimula'\n",
      " 'Huehuetenango']\n",
      "  2023: ['Guatemala' 'Zacapa' 'Escuintla' 'Santa Rosa' 'Suchitepéquez'\n",
      " 'Retalhuleu' 'Quetzaltenango' 'San Marcos' 'Baja Verapaz' 'El Progreso'\n",
      " 'Izabal' 'Petén' 'Chimaltenango' 'Huehuetenango' 'Jutiapa' 'Chiquimula'\n",
      " 'Alta Verapaz' 'Quiché' 'Sololá' 'Sacatepéquez' 'Jalapa' 'Totonicapán']\n",
      "\n",
      "Columna: dia_ocu\n",
      "  2014: [ 1  2  3  4  5  6  7  8  9 10 11 12 13 14 15 16 17 18 19 20 21 22 23 24\n",
      " 25 26 27 28 29 30 31]\n",
      "  2015: [ 1  2  3  4  5  6  7  8  9 10 11 12 13 14 15 16 17 18 19 20 21 22 23 24\n",
      " 25 26 27 28 29 30 31]\n",
      "  2016: [ 1  2  3  4  5  6  7  8  9 10 11 12 13 14 15 16 17 18 19 20 21 22 23 24\n",
      " 25 26 27 28 29 30 31]\n",
      "  2017: [ 1  2  3  4  5  6  7  8  9 10 11 12 13 14 15 16 17 18 19 20 21 22 23 24\n",
      " 25 26 27 28 29 30 31]\n",
      "  2018: [ 1  2  3  4  5  6  7  8  9 10 11 12 13 14 15 16 17 18 19 20 21 22 23 24\n",
      " 25 26 27 28 29 30 31]\n",
      "  2019: [ 1  2  3  4  5  6  7  8  9 10 11 12 13 14 15 16 17 18 19 20 21 22 23 24\n",
      " 25 26 27 28 29 30 31]\n",
      "  2020: [ 1  2  3  4  5  6  7  8  9 10 11 12 13 14 15 16 17 18 19 20 21 22 23 24\n",
      " 25 26 27 28 29 30 31]\n",
      "  2021: [ 1  2  3  4  5  6  7  8  9 10 11 12 13 14 15 16 17 18 19 20 21 22 23 24\n",
      " 25 26 27 28 29 30 31]\n",
      "  2022: [ 1  2  3  4  5  6  7  8  9 10 11 12 13 14 15 16 17 18 19 20 21 22 23 24\n",
      " 25 26 27 28 29 30 31]\n",
      "  2023: [ 1  2  3  4  5  6  7  8  9 10 11 12 13 14 15 16 17 18 19 20 21 22 23 24\n",
      " 25 26 27 28 29 30 31]\n",
      "\n",
      "Columna: dia_sem_ocu\n",
      "  2014: [3 4 5 6 7 1 2]\n",
      "  2015: [4 5 6 7 1 2 3]\n",
      "  2016: [4 5 6 7 1 2 3]\n",
      "  2017: [7 1 2 3 4 5 6]\n",
      "  2018: [1 2 3 4 5 6 7]\n",
      "  2019: [2 3 4 5 6 7 1]\n",
      "  2020: [3 4 5 6 7 1 2]\n",
      "  2021: [5 6 7 1 2 3 4]\n",
      "  2022: ['Sabado' 'Domingo' 'Lunes' 'Martes' 'Miercoles' 'Jueves' 'Viernes']\n",
      "  2023: ['Domingo' 'Lunes' 'Martes' 'Miércoles' 'Jueves' 'Viernes' 'Sábado']\n",
      "\n",
      "Columna: edad_per\n",
      "  2014: [ 20  21  30  26  18  27  16  53  56  32  23  45 999  39  58  63  17  57\n",
      "  24  35  50  52  31  37  14  28  38  48  51  25  22  40  47  36  44  72\n",
      "  29  55  19  42  33  41  59  43  46  60  62  65  34  70  67  66  76  64\n",
      "  49  15  75  13  54  69  73  71  79  12  89  68  61  77  74  78  81  92]\n",
      "  2015: [ 24  19  32  18 999  20  23  29  21  28  33  25  22  30  82  26  16  45\n",
      "  47  34  66  27  58  64  35  48  38  40  53  61  41  37  44  14  42  77\n",
      "  65  49  51  39  54  50  36  43  31  59  17  56  63  52  60  46  72  15\n",
      "  79  68  12  55  73  57  74  78  67  76  62  70  13  71  85  69  75  80\n",
      "  88  81  84]\n",
      "  2016: [ 24  19  32  18 999  20  23  29  21  28  33  25  22  30  82  26  16  45\n",
      "  47  34  66  27  58  64  35  48  38  40  53  61  41  37  44  14  42  77\n",
      "  65  49  51  39  54  50  36  43  31  59  17  56  63  52  60  46  72  15\n",
      "  79  68  12  55  73  57  74  78  67  76  62  70  13  71  85  69  75  80\n",
      "  88  81  84]\n",
      "  2017: [ 37  39  20  25  21  47  30 999  54  18  29  33  35  52  23  45  22  32\n",
      "  28  26  34  36  44  60  24  62  46  61  42  67  50  27  31  57  56  14\n",
      "  16  41  48  17  19  40  72  65  53  66  38  43  49  51  55  58  59  69\n",
      "  64  76  74  63  79  80  15  70  81  73  71  13  68  75  78  89  90  82\n",
      "  88  10  77  84  85  86  95]\n",
      "  2018: [ 28  19  60  42  17  47  23  30  25  49  18  39  35  72  44  53 999  29\n",
      "  27  34  21  55  62  20  33  37  26  58  57  54  32  40  22  56  51  43\n",
      "  36  24  45  38  50  31  48  64  41  65  52  59  46  16  68  66  85  61\n",
      "  69  81  70  73  15  14  63  71  75  78  84  13  77  67  76  74  80  12\n",
      "  82  79  87  10]\n",
      "  2019: [ 20  26  30  40  25  23 999  32  24  50  28  41  14  39  35  44  18  37\n",
      "  21  64  27  33  17  22  16  69  55  34  58  38  49  70  19  42  56  29\n",
      "  67  53  47  43  36  59  31  46  74  45  15  62  57  60  48  52  65  71\n",
      "  61  78  63  54  51  13  79  12  66  73  75  10  87  80  77  76  68  72\n",
      "  89  82   6  86  94  92]\n",
      "  2020: [999  33  63  52  43  35  55  34  29  27  36  22  15  23  20  59  38  21\n",
      "  41  44  69  65  58  17  30  50  31  40  19  39  26  45  18  37  25  28\n",
      "  47  24  32  61  54  46  49  42  51  68  16  70  60  11  56  48  72  78\n",
      "  66  53  13  76  57  71  67  14  62  74  64  75   6   8  77  83  82  89\n",
      "  73  79  88   3  90  12  80]\n",
      "  2021: [ 23  34  25  35 999  20  24  40  22  32  54  19  29  31  48  28  67  33\n",
      "  26  47  27  39  21  72  38  52  18  44  36  43  41  42  45  49  37  59\n",
      "  12  30  56  70  55  16  64  50  62  57  68  14  13  46  60  58  71  51\n",
      "  75  65  17  15  61  53  79  76  74  81  63  69  82  66  73  78  80  77\n",
      "  83  84]\n",
      "  2022: [27 31 'Ignorada' 22 26 35 21 34 19 50 58 23 36 25 45 42 20 24 39 9 63 38\n",
      " 62 32 16 30 54 37 44 17 28 18 49 47 33 43 57 51 14 41 46 55 59 65 40 53\n",
      " 84 29 48 70 60 56 76 78 64 68 72 75 52 15 66 61 86 69 90 67 71 73 13 80\n",
      " 82 12 8 74 5 77 81 79]\n",
      "  2023: [38 17 52 22 30 48 42 37 43 18 21 27 23 35 'Ignorada' 25 24 44 51 40 34 50\n",
      " 28 32 41 36 20 69 33 26 49 59 19 39 31 71 62 54 63 57 29 45 47 16 53 60\n",
      " 58 79 46 56 61 65 15 14 55 64 72 67 66 13 85 70 78 86 12 73 80 84 74 75\n",
      " 68 10 77 81 76 88 9]\n",
      "\n",
      "Columna: edad_quinquenales\n",
      "  2014: [ 5  7  6  4 11 12 10 18  8 13  3  9 15 14 16 17]\n",
      "  2015: [ 5  4  7 18  6 17 10 14 12 13  8  9 11  3 16 15]\n",
      "  2016: [ 5  4  7 18  6 17 10 14 12 13  8  9 11  3 16 15]\n",
      "  2017: [ 8  5  6 10  7 18 11  4  9 13 14 12  3 15 16 17]\n",
      "  2018: [ 6  4 13  9 10  5  7  8 15 11 18 12 14 17  3 16]\n",
      "  2019: [ 5  6  7  9 18 11  3  8  4 13 14 12 10 15 16 17  2]\n",
      "  2020: [18  7 13 11  9  8 12  6  5  4 14 10 15  3 16  2 17  1]\n",
      "  2021: [ 5  7  6  8 18  9 11  4 10 14 15 12  3 13 16 17]\n",
      "  2022: ['25 - 29' '30 - 34' 'Ignorado' '20 - 24' '35 - 39' '15 - 19' '50 - 54'\n",
      " '55 - 59' '45 - 49' '40 - 44' '5 - 9' '60 - 64' '10 - 14' '65 - 69'\n",
      " '80 o más' '70 - 74' '75 - 79']\n",
      "  2023: ['35 - 39' '15 - 19' '50 - 54' '20 - 24' '30 - 34' '45 - 49' '40 - 44'\n",
      " '25 - 29' 'Ignorado' '65 - 69' '55 - 59' '70 - 74' '60 - 64' '75 - 79'\n",
      " '10 - 14' '80 o m?s' '5 - 9']\n",
      "\n",
      "Columna: estado_con\n",
      "  2014: [9 2 1]\n",
      "  2015: [9 1 2]\n",
      "  2016: [9 1 2]\n",
      "  2017: [1 2 9]\n",
      "  2018: [9 1 2]\n",
      "  2019: [1 9 2]\n",
      "  2020: [9 1 2]\n",
      "  2021: [9 1 2]\n",
      "  2022: ['Ebrio' 'Ignorado' 'No Ebrio']\n",
      "  2023: ['Ignorado' 'No Ebrio' 'Ebrio']\n",
      "\n",
      "Columna: g_edad_60ymas\n",
      "  2014: [ 3  5  4  2  9 10  8 12  6 11  1  7]\n",
      "  2015: [ 3  2  5 12  4 11  8 10  6  7  9  1]\n",
      "  2016: [ 3  2  5 12  4 11  8 10  6  7  9  1]\n",
      "  2017: [ 6  3  4  8  5 12  9  2  7 11 10  1]\n",
      "  2018: [ 4  2 11  7  8  3  5  6  9 12 10  1]\n",
      "  2019: [ 3  4  5  7 12  9  1  6  2 11 10  8 16]\n",
      "  2020: [12  5 11  9  7  6 10  4  3  2  8  1]\n",
      "  2021: [ 3  5  4  6 12  7  9  2  8 11 10  1]\n",
      "  2022: ['25-29' '30-34' 'Ignorado' '20-24' '35-39' '15-19' '50-54' '55-59'\n",
      " '45-49' '40-44' 'Menor de 15' '60 y más']\n",
      "  2023: ['35-39' '15-19' '50-54' '20-24' '30-34' '45-49' '40-44' '25-29'\n",
      " 'Ignorado' '60 y más' '55-59' 'Menor de 15']\n",
      "\n",
      "Columna: g_edad_80ymas\n",
      "  2014: [ 3  5  4  2  9 10  8 16  6 11  1  7 13 12 14 15]\n",
      "  2015: [ 3  2  5 16  4 15  8 12 10 11  6  7  9  1 14 13]\n",
      "  2016: [ 3  2  5 16  4 15  8 12 10 11  6  7  9  1 14 13]\n",
      "  2017: [ 6  3  4  8  5 16  9  2  7 11 12 10  1 13 14 15]\n",
      "  2018: [ 4  2 11  7  8  3  5  6 13  9 16 10 12 15  1 14]\n",
      "  2019: [ 3  4  5  7 16  9  1  6  2 11 12 10  8 13 14 15]\n",
      "  2020: [16  5 11  9  7  6 10  4  3  2 12  8 13  1 14 15]\n",
      "  2021: [ 3  5  4  6 16  7  9  2  8 12 13 10  1 11 14 15]\n",
      "  2022: ['25-29' '30-34' 'Ignorado' '20-24' '35-39' '15-19' '50-54' '55-59'\n",
      " '45-49' '40-44' 'Menor de 15' '60-64' '65-69' '80 y más' '70-74' '75-79']\n",
      "  2023: ['35-39' '15-19' '50-54' '20-24' '30-34' '45-49' '40-44' '25-29'\n",
      " 'Ignorado' '65-69' '55-59' '70-74' '60-64' '75-79' 'Menor de 15'\n",
      " '80 y más']\n",
      "\n",
      "Columna: g_hora\n",
      "  2014: [1 4 2 3]\n",
      "  2015: [3 4 1 2]\n",
      "  2016: [3 4 1 2]\n",
      "  2017: [1 2 3 4]\n",
      "  2018: [3 2 4 1]\n",
      "  2019: [1 4 2 3]\n",
      "  2020: [1 3 2 4]\n",
      "  2021: [2 1 4 3 5]\n",
      "  2022: ['00:00 a 05:59' '06:00 a 11:59' '18:00 a 23:59' '12:00 a 17:59'\n",
      " 'Ignorada']\n",
      "  2023: ['12:00 a 17:59' '18:00 a 23:59' '06:00 a 11:59' '00:00 a 05:59'\n",
      " 'Ignorada']\n",
      "\n",
      "Columna: g_hora_5\n",
      "  2014: [1 3 2]\n",
      "  2015: [2 3 1]\n",
      "  2016: [2 3 1]\n",
      "  2017: [1 2 3]\n",
      "  2018: [2 1 3]\n",
      "  2019: [1 3 2]\n",
      "  2020: [1 2 3]\n",
      "  2021: [1 3 2 4]\n",
      "  2022: ['Mañana' 'Noche' 'Tarde' 'Ignorada']\n",
      "  2023: ['Tarde' 'Noche' 'Mañana' 'Ignorada']\n",
      "\n",
      "Columna: g_modelo_veh\n",
      "  2014: [None]\n",
      "  2015: [4 5 6 3 2 1]\n",
      "  2016: [4 5 6 3 2 1]\n",
      "  2017: [1 6 5 3 4 2]\n",
      "  2018: [99  4  3  2  5  1]\n",
      "  2019: [ 5 99  4  2  3  1  6]\n",
      "  2020: [99  3  4  6  5  2  1]\n",
      "  2021: [ 6  4 99  5  2  3  1]\n",
      "  2022: ['Ignorado' '2000-2009' '1990-1999' '2010-2019' '2020-2029' '1980-1989'\n",
      " '1970-1979']\n",
      "  2023: ['2010-2019' '1980-1989' '2020-2029' 'Ignorado' '2000-2009' '1990-1999'\n",
      " '1970-1979']\n",
      "\n",
      "Columna: hora_ocu\n",
      "  2014: [ 4 20  2 18  1  9 22 19 17 16 13 11 10 21  3 14  0 23  8  5  7 15  6 12]\n",
      "  2015: [16 22  2  9  1  8 17 10 20  7 15 23  0 12  4  6 11 19  3 21 18 14  5 13]\n",
      "  2016: [16 22  2  9  1  8 17 10 20  7 15 23  0 12  4  6 11 19  3 21 18 14  5 13]\n",
      "  2017: [ 1  2 10 14 20 21  7 16 18  0  8 19 15 22 12 11 17 23  9  6  5  4 13  3]\n",
      "  2018: [16 12  7 22 23  1  4 21  9 11 18  5 15  2 10  6 19  8 14 13  0  3 17 20]\n",
      "  2019: [ 5 21  7 11  8  0  4 12 16 22  1  9 15 14  3 19 18  6 20 17 23 10 13  2]\n",
      "  2020: [ 1 15  5  7 12  0 16 11 14  9  2 17 20 13 19 21 23 18  8  3 22  6  4 10]\n",
      "  2021: [ 7  9  5  2 19 23 11 17  1  0 18 14 16 12 13 21 20 10 22  8 15  3  6  4\n",
      " 99]\n",
      "  2022: [4 11 1 7 5 21 0 13 19 8 22 9 23 3 15 12 18 16 20 10 17 6 14 2 'Ignorada']\n",
      "  2023: [15 20 23 10 17 0 1 8 2 14 22 3 13 11 21 16 12 7 6 19 9 18 5 4 'Ignorada']\n",
      "\n",
      "Columna: marca_veh\n",
      "  2014: [32 46 21  2 42  5 37 23 44 99 34 33 17 30 19 10 38 13 49 24 15 20  4  3\n",
      "  6 22 36 14 31 40 29 26 41 47  8 45  9 11 28 61 12 48 18 59 35 62 43 60\n",
      " 25 16  1 53 56 52 54 39  7]\n",
      "  2015: [32 21 44 40 34 41 22 99 37  5 20 49 30 31 42  2 46 14 15 13  3 19 47 24\n",
      " 10  9 59 23 33 16 61 18 38  4 45 29 36  8 28 11 62  7  1 48 26 55 53 17\n",
      " 12 39 54 35]\n",
      "  2016: [32 21 44 40 34 41 22 99 37  5 20 49 30 31 42  2 46 14 15 13  3 19 47 24\n",
      " 10  9 59 23 33 16 61 18 38  4 45 29 36  8 28 11 62  7  1 48 26 55 53 17\n",
      " 12 39 54 35]\n",
      "  2017: [  7  28  18   6  69  64  54  52 158 999  67  56  34  27  74  41   3  48\n",
      "  32  10  31  73  26  19  58 108  30   2  96  76  14  23  16  43  20  17\n",
      "   4  53  50  13  35 113  75  15  21  45   1  77   8  84  90  40  49  72\n",
      " 159  59  89 142  94  39 137  12  46  42  25  68 105 103  38 160 140  62\n",
      "  98 100 115  63  86 121 112 161   9   5 130  61 123  88  66 126  92 151\n",
      "  11  81 107  51 162 163  36  44  24  57 149]\n",
      "  2018: [ 32  69   6 999  27  67  48  77  21  52  28  19  62  41 100  25  31  30\n",
      "   4  17  18  66   2  10   3   1  56  76  64  92  26  73  79   8  34  74\n",
      "  72  54  40  61  44  93  14  50  43  85  15  53 138 141 164 145  95 150\n",
      "  38  35  84  45  39  87 166 165   7 103  59  63 154  20  23  51  55 105\n",
      "   9  58  90  91  82 107  89  96  49  46  16  42 144  24 163 123   5 116\n",
      " 168  57 113 159 169 115  13 167 117 170  88  99 171  47 112 172 121 140\n",
      "  97  12 151 108 173  29 120  71  83 175  70]\n",
      "  2019: [ 64  90   6  41  18  69  67  27 999  77  32  56   8  52  35  30  76   2\n",
      " 121  39  31  58  48  72  54  44 100  10  73  28   4  38   3  81  19 190\n",
      "  26  79  20  96  63 168 163  91   9  59 103  17  51  50  14  40   1  55\n",
      "  88  47  23  25  21   7  62  43  34  74  92  36  15 173  95  42  66 142\n",
      "  45   5 159 186 107  75 123  16 110  46 138  87  85  86  84  61 113 115\n",
      "  57 116  49  89  13 172 137  60 102 144  12 104  29 156 141  53 117 114]\n",
      "  2020: [ 48  52 999  27  32  61  69  73  41  18  64   6  31  67  56  76   3  30\n",
      "  72  54  19  26  17  25  50   4   2  77  88  39  10 100  90  28   7   5\n",
      " 103 190  40 168 121   8  74  45  13  96 172 144  14 163   1  38  87  58\n",
      "  99  34  35  51  20 113 160  36 173  62  23  63  92  42  21  59  12  43\n",
      "  84  66  15  75  97  91  55 112  71  16 131 116 158 145  60  46   9  53\n",
      " 141 120 102  57  11  85  83 114  68 107 115 123]\n",
      "  2021: [ 67  41  20 100 999   3  56  18  52  27  74  69  32 168   6  48  64  76\n",
      "  30  10  90   4  73  45  19  26  28  46  54  31  34  50   8  17  25  59\n",
      "  38   2  53  77  87 190 141   5  66  39  51  21  40 165 163  14  61 115\n",
      "   9  43  58  35 177  95  84  72  86  42  88  15 144  23  96  60   1 105\n",
      "  44  49 173 103 142  62  70 159  16  47  91 128 136   7  71  63 140  98\n",
      "  29 172  89 119 108 138  24 121  57  75 117  79 112 160  13 101 104  12\n",
      "  11]\n",
      "  2022: ['Honda' 'Mazda' 'Nissan' 'Ignorado' 'Mitsubishi' 'Bajaj' 'Yamaha' 'Ford'\n",
      " 'Hyundai' 'Freedom' 'Italika' 'Isuzu' 'Otros' 'Serpento' 'Kia'\n",
      " 'Chevrolet' 'Toyota' 'Internacional' 'Benelli' 'TVS Apache' 'Suzuki'\n",
      " 'Volkswagen' 'Hero Hunk' 'Wuyang' 'Mercedes Benz' 'MRT' 'Freightliner'\n",
      " 'Haojue' 'Movesa' 'Hino' 'Asia Hero' 'Audi' 'Volvo' 'Jialing' 'Renault'\n",
      " 'Scania' 'BYD' 'Mack' 'Land Rover' 'Genesis' 'Sterling'\n",
      " 'United Motors (UM)' 'Jeep' 'Jac' 'Dodge' 'X-bow KRM' 'Avanti'\n",
      " 'Yumbo dakar' 'CF Moto' 'Infiniti' 'Blue Bird' 'Senke' 'Peugeot'\n",
      " 'Cadillac' 'Scion' 'Kawasaki' 'Plymouth' 'Geo' 'BMW' 'Datsun' 'Kingo'\n",
      " 'Skigo' 'Subaru' 'Changan' 'Saturn Corporation' 'Hummer' 'MCI' 'Kenworth'\n",
      " 'Peter Bilt' 'Vento' 'Chrysler' 'Pegasus' 'AHM' 'Acura' 'Foton' 'Hyosung'\n",
      " 'Sanyang' 'Keeway' 'Ssangyong' 'Chery Destiny' 'Opel' 'Mini Cooper'\n",
      " 'Rhino' 'Zongshen' 'Harley Davidson' 'Kymco' 'GMC' 'Lexus' 'Bashan'\n",
      " 'Lifan' 'Mahindra' 'Daihatsu' 'ZX auto' 'Jaguar' 'Loncin' 'Dinamo'\n",
      " 'Kinlon' 'Daewoo' 'Dayang' 'Fiat' 'Shineray' 'Citroen' 'Lincoln' 'TMR SL'\n",
      " 'Motolansa' 'Tough' 'Caterpillar' 'Piaggio' 'Wuling' 'Seat']\n",
      "  2023: ['Nissan' 'Freedom' 'Bajaj' 'Suzuki' 'Ignorado' 'Toyota' 'Asia Hero'\n",
      " 'Honda' 'TVS Apache' 'Haojue' 'Freightliner' 'Mazda' 'Hyundai' 'Kawasaki'\n",
      " 'Otros' 'Benelli' 'Isuzu' 'Mercedes Benz' 'Yamaha' 'Italika' 'Volkswagen'\n",
      " 'Mitsubishi' 'Internacional' 'Ford' 'Audi' 'Serpento' 'Peter Bilt' 'Kia'\n",
      " 'Subaru' 'Kymco' 'Avanti' 'Foton' 'Chevrolet' 'Volvo' 'Scion' 'BYD'\n",
      " 'Peugeot' 'MRT' 'Jialing' 'Sterling' 'Hino' 'BMW' 'Ssangyong' 'Jeep'\n",
      " 'Vento' 'Kenworth' 'Changan' 'Movesa' 'Sanyang' 'Yumbo dakar' 'Mahindra'\n",
      " 'X-bow KRM' 'Dodge' 'Hero Hunk' 'Land Rover' 'Blue Bird' 'Genesis'\n",
      " 'Lifan' 'Fiat' 'AHM' 'GMC' 'United Motors (UM)' 'Jac' 'Scania'\n",
      " 'Motolansa' 'Renault' 'Raybar' 'CF Moto' 'ZX auto' 'John Deere'\n",
      " 'FAW Jiabao' 'Datsun' 'Piaggio' 'Keeway' 'Skoda' 'Hyosung' 'Jaguar'\n",
      " 'Chery Destiny' 'Plymouth' 'Harley Davidson' 'Pegasus' 'Loncin' 'Geo'\n",
      " 'Mack' 'Daihatsu' 'KTM' 'MCI' 'Great Wall' 'Kinlon' 'Ud Trucks' 'Hummer'\n",
      " 'Wuling' 'Kingo' 'Zongshen' 'TMR SL' 'Sanlg' 'Daelim' 'Mini Cooper'\n",
      " 'Qingqi' 'Chrysler']\n",
      "\n",
      "Columna: mayor_menor\n",
      "  2014: [1 2 9]\n",
      "  2015: [1 9 2]\n",
      "  2016: [1 9 2]\n",
      "  2017: [1 9 2]\n",
      "  2018: [1 2 9]\n",
      "  2019: [1 9 2]\n",
      "  2020: [1 2 9]\n",
      "  2021: [1 9 2]\n",
      "  2022: ['Mayor' 'Ignorado' 'Menor']\n",
      "  2023: ['Mayor' 'Menor' 'Ignorado']\n",
      "\n",
      "Columna: mes_ocu\n",
      "  2014: [ 1  2  3  4  5  6  7  8  9 10 11 12]\n",
      "  2015: [ 1  2  3  4  5  6  7  8  9 10 11 12]\n",
      "  2016: [ 1  2  3  4  5  6  7  8  9 10 11 12]\n",
      "  2017: [ 1  2  3  4  5  6  7  8  9 10 11 12]\n",
      "  2018: [ 1  2  3  4  5  6  7  8  9 10 11 12]\n",
      "  2019: [ 1  2  3  4  5  6  7  8  9 10 11 12]\n",
      "  2020: [ 1  2  3  4  5  6  7  8  9 10 11 12]\n",
      "  2021: [ 1  2  3  4  5  6  7  8  9 10 11 12]\n",
      "  2022: ['Enero' 'Febrero' 'Marzo' 'Abril' 'Mayo' 'Junio' 'Julio' 'Agosto'\n",
      " 'Septiembre' 'Octubre' 'Noviembre' 'Diciembre']\n",
      "  2023: ['Enero' 'Febrero' 'Marzo' 'Abril' 'Mayo' 'Junio' 'Julio' 'Agosto'\n",
      " 'Septiembre' 'Octubre' 'Noviembre' 'Diciembre']\n",
      "\n",
      "Columna: modelo_veh\n",
      "  2014: [3 4 9 5 2 1]\n",
      "  2015: [2003 2011 9999 2000 2001 2015 2004 2005 1998 1995 2012 1992 2002 1993\n",
      " 1994 2009 2007 2013 2014 1984 2006 2008 1987 1985 1996 2010 1989 1982\n",
      " 1999 1980 1990 1997 1986 1991 1988 1983 1973 1981 1978 1977 1979 2016\n",
      " 1974 1976 1888 1968 1942 1886]\n",
      "  2016: [2003 2011 9999 2000 2001 2015 2004 2005 1998 1995 2012 1992 2002 1993\n",
      " 1994 2009 2007 2013 2014 1984 2006 2008 1987 1985 1996 2010 1989 1982\n",
      " 1999 1980 1990 1997 1986 1991 1988 1983 1973 1981 1978 1977 1979 2016\n",
      " 1974 1976 1888 1968 1942 1886]\n",
      "  2017: [1971 9999 2014 1992 1994 2013 2012 2007 1982 2004 2016 1999 2015 1993\n",
      " 2008 1995 2002 1989 2006 1997 2001 2010 2003 2009 1987 1991 2017 2005\n",
      " 2000 1998 2011 1986 1996 1984 1983 1988 1938 1985 1990 1979 1955 1980\n",
      " 1981 1898 2018 1976 1978 1957]\n",
      "  2018: [9999 2003 1991 1980 1996 2010 1992 2015 2001 1999 2002 1993 2018 2014\n",
      " 2000 2004 2007 2009 2016 2017 2006 1995 2005 1984 2008 1998 1994 2013\n",
      " 1985 1997 1990 1986 1983 1987 2012 1989 2011 1988 1958 1978 1973 1897\n",
      " 1979 1977 2019 1981 1972 1975 1976 1982 1974 1965]\n",
      "  2019: [2018 9999 2019 2007 2006 2016 1988 2012 2014 2017 2003 2011 1989 2005\n",
      " 1996 2015 1986 1990 1994 1995 1991 1984 2000 2009 2010 1987 1998 1999\n",
      " 2013 2002 2001 1997 1993 2008 2004 1992 1985 1975 1981 1980 1978 1974\n",
      " 2020 1982 1983 1976 1979]\n",
      "  2020: [9999 1993 2004 1999 1994 2005 2020 2008 2012 2006 2013 1989 2017 2018\n",
      " 1992 1988 2019 2007 1980 1997 2010 2015 2000 2011 1985 2014 1998 2009\n",
      " 1991 2001 1990 2016 2002 1996 1986 2003 1987 1995 1978 1983 1977 1984\n",
      " 1976 1975 1979 1981 1973 1982 2021]\n",
      "  2021: [2020 2006 9999 2015 2017 1983 2003 2001 2014 2005 2011 2013 1994 1993\n",
      " 2016 2010 1995 1996 2008 2012 1989 2019 2018 1984 2007 2009 1990 1998\n",
      " 2000 1985 2021 2002 1991 1997 1992 1999 1988 2004 1986 1987 1979 1981\n",
      " 1980 1973 2022 1976 1982 1974 1978]\n",
      "  2022: ['Ignorado' 2007 2002 1998 2001 2017 2014 2016 2012 2022 2015 2018 2010\n",
      " 2005 2006 2020 2019 2013 1996 2021 2008 1993 1995 1989 2011 1990 1987\n",
      " 2000 2003 1997 1992 1999 1983 1991 1986 2004 1985 1994 2009 1988 1970\n",
      " 1980 1981 1972 1984 1973 1978 1982 1979 2023 1974 1954]\n",
      "  2023: [2017 1986 2022 2021 'Ignorado' 2009 2018 2019 2011 2016 1995 2003 2020\n",
      " 2001 1984 2012 2013 1997 2005 2002 2008 2010 2007 1994 2015 1999 2000\n",
      " 2006 1998 1988 2014 2023 1985 1989 1993 1980 1996 1990 2004 1992 1991\n",
      " 1983 1987 1976 1973 1979 2024 1981 1982 1978 1974 1977]\n",
      "\n",
      "Columna: mupio_ocu\n",
      "  2014: [ 101  502 1102 1601 1801  401 1703 1908  501 1001  115 1101  102 1014\n",
      " 1208  608  920 1202  601 1201  805 1712  603  901 1301  203 2101 2106\n",
      "  701  114 1107  508 1213  801  802 1705 2011  506  511 1306  407  403\n",
      "  108 1901  509 1010  923  201  602 1005 1401 1406 1315  109 2004 1501\n",
      "  614 1604 2201  505 1229  312 1906 1804  416  107  103 2001 2007 1004\n",
      "  302 2010 1222 1602  301 2214 1904  914 1502 1709  411  116 2002  105\n",
      "  507  902 2009  710 1413 1416  605 2005  110  406  104  117  512  609\n",
      " 1611 1504 1803 1805  705 2202  504 1015 1020 2205 1215 1708 2217 1802\n",
      "  409  919 1910 1317 1013  921 2215 2107 2105  917  113 1304 1701  208\n",
      " 2102  803  510 1419  207 2216  604 1614  415 2204 2212  202  924 1412\n",
      " 1710  410 1002 1217 1902 1909  916  303  513 1319  402 1106  904 1415\n",
      " 1609 1312  314 2210 1009 1205  706  922 1207 1707 1605 1507  306 1021\n",
      " 1108 1612  304 1608  307 1704 2203 1302 1420 2104  111  206 1404 1303\n",
      " 1506 1409 1328 1903 1326 1309 1011 1613 1607  205  719 1104 1615 1905\n",
      " 1006 1008 1325 1603  611 2003 1327 1226 1503  309 1016 1711  912 1212\n",
      " 1616  308 1216 1109  305 1405 1617 1103 1305 2008 1508  413  606  903\n",
      " 2209 1606 1219 1706  714  106  915 1714  613  414 1408  610  204 1324\n",
      "  702 1610  715 1320  709  412 1227  804 2006 1105 2211  909 2213 1316\n",
      "  712  607  503 1214  112 1210  911 1230 1418 1218 1713  704 1203 1221\n",
      "  806 1211 2207 1505 1421  404 1411 1223 2103  717 1329 1403  713 1003\n",
      " 1907  612 2208  807 1204 1323 1308 1017  313  906 1307 1310 1402 2206\n",
      " 1018 1417]\n",
      "  2015: [ 101  115  114  110  602 1101 1501 2106 2001  508 1201 1601 1801  701\n",
      " 1904  506  611 1805  313 2201 2104 2102  502  509  920  901 1202 1218\n",
      " 1703 1712  407 1502  302 2011 1014 1304  201 1804 1021 1107  204 2206\n",
      " 1103 1710 1420  103  102  117  108 2101  507 1001 1301 1405  410  501\n",
      "  401  301  113 1208 2216 1901 1210 1708 1906  505 1020  909  206  116\n",
      " 2205 2212 1006 1215 1211 1212 1607 1503  205 1707  704  406 2213 2005\n",
      " 1310 1609 1711 1016  413 1401 1010 1701 1105 1309 1408  409  614  607\n",
      " 1106 1709  610 1102  513  208 1803  504 1008  801 1615  207 1305  308\n",
      "  916  511  503 1109 1219 1705 2007  608 1204  202  304 2105 1903  601\n",
      "  917 1330 1312 1616  203 1416  709  922 1706 1011  111  510 1230 1222\n",
      " 1610  603  307 1002  902  715  605 1015  719 1905 1306  314 1504  303\n",
      " 1614 1909 1302 1507 1412 1323 1602 1506 2202  923 1704  416 1003  105\n",
      "  403 2004  914 2215 1216 1907 1409 1415  104 1406 1902 2107 1604 1013\n",
      " 1206 2203 1220 1413 1217 1617  705 1307 1223 1017 1613  312  802  609\n",
      "  710  414 1226 1605  309 1320  405 2204 1005  606 1229  305  106  311\n",
      " 2103 1421  411 2217  915 2207  415 2009 1019 1802 2003 1714 1319  107\n",
      " 1612 1331 1203 2214  806  306  912  612 1108  904 1326 2211  910  711\n",
      " 1404  913  906 2008  613 1104 1221 1007 2010 2006  706 1603  919 1303\n",
      " 1324 1411  803 1315  713 1327 1611 1417 1910  924 2209  112  903  804\n",
      " 1419 1911 1713 1317 1207  805 1508 2002 1214 1316 1908 1213  512 1227\n",
      " 1012  718 1606  412 1308  702 1608 1004 1313  109  703 1311 1402  604\n",
      " 1407 1414  712 1410  707  404  402  708 1403 1702  315  310  717 1505]\n",
      "  2016: [ 101  115  114  110  602 1101 1501 2106 2001  508 1201 1601 1801  701\n",
      " 1904  506  611 1805  313 2201 2104 2102  502  509  920  901 1202 1218\n",
      " 1703 1712  407 1502  302 2011 1014 1304  201 1804 1021 1107  204 2206\n",
      " 1103 1710 1420  103  102  117  108 2101  507 1001 1301 1405  410  501\n",
      "  401  301  113 1208 2216 1901 1210 1708 1906  505 1020  909  206  116\n",
      " 2205 2212 1006 1215 1211 1212 1607 1503  205 1707  704  406 2213 2005\n",
      " 1310 1609 1711 1016  413 1401 1010 1701 1105 1309 1408  409  614  607\n",
      " 1106 1709  610 1102  513  208 1803  504 1008  801 1615  207 1305  308\n",
      "  916  511  503 1109 1219 1705 2007  608 1204  202  304 2105 1903  601\n",
      "  917 1330 1312 1616  203 1416  709  922 1706 1011  111  510 1230 1222\n",
      " 1610  603  307 1002  902  715  605 1015  719 1905 1306  314 1504  303\n",
      " 1614 1909 1302 1507 1412 1323 1602 1506 2202  923 1704  416 1003  105\n",
      "  403 2004  914 2215 1216 1907 1409 1415  104 1406 1902 2107 1604 1013\n",
      " 1206 2203 1220 1413 1217 1617  705 1307 1223 1017 1613  312  802  609\n",
      "  710  414 1226 1605  309 1320  405 2204 1005  606 1229  305  106  311\n",
      " 2103 1421  411 2217  915 2207  415 2009 1019 1802 2003 1714 1319  107\n",
      " 1612 1331 1203 2214  806  306  912  612 1108  904 1326 2211  910  711\n",
      " 1404  913  906 2008  613 1104 1221 1007 2010 2006  706 1603  919 1303\n",
      " 1324 1411  803 1315  713 1327 1611 1417 1910  924 2209  112  903  804\n",
      " 1419 1911 1713 1317 1207  805 1508 2002 1214 1316 1908 1213  512 1227\n",
      " 1012  718 1606  412 1308  702 1608 1004 1313  109  703 1311 1402  604\n",
      " 1407 1414  712 1410  707  404  402  708 1403 1702  315  310  717 1505]\n",
      "  2017: [ 101  110  504  511  502  107 1301  801  802 1616  203 1703 1710  710\n",
      "  701  413  104  113 1021 1004 2001 1903  509  603  117 2102 2106  513\n",
      "  501  507  705  401  303  106  116 1904 1323  917  920 1504  301 1405\n",
      "  306 1001 1613  108  109 1307 1507 1805 1701 1901  803  202 2011  611\n",
      " 1601  201  208  304 1222 1801 1002  901 2205 2101  111 1303 1804 2004\n",
      " 1101 1319  601  605 1604 1419 1201 1317  207 2217  510 1106 1105  503\n",
      " 1215 1203  602 2215 1501 1401 1505  312 2201 1104 1713 2212 1602 1503\n",
      " 1420  308  613 1708 1615 1707  609 1103 1712 1709 1508 1210 1328 1020\n",
      "  409  403 1014 1705  416 2007 1005  404 1216 1229  608  508 1412  717\n",
      "  307 2204 1910 1015 2008 1306  506  112 2009  406  114 1706 1012  102\n",
      " 1219 1218 1609  514 1007 2216 1908  902 1906  302  407 1217 1603 2002\n",
      " 1607 1408  706 1803 1003 1413  309 2206  904  614 1202 1406  505 1320\n",
      "  805 1902 2213  415  313  115 1013 1102 1610 1909  414 1905 2010 1704\n",
      " 2208 1802 2202 1010  105 1109 2107 1008  916  606 2214  919  704 1316\n",
      "  807 1714 1204  909 1107 1009  610  607  923 1223 1404 1416  921 1108\n",
      " 1302  412 1305 2211 2207 1502 1415 1011 1312  411 1409  103 1006 1207\n",
      " 1617 1418 1230  906 1212  206 1414 1907 1614  314 2103 1211 1711 1018\n",
      " 1310  914  612  711  905  903  713 2203 1605  719  910  311  204 1331\n",
      " 1016  924 1608 2005 1314  604 1226 1410 1411  410 1019 1304  806  922\n",
      " 1327  205 2006 1308 1402 1606 1227 2104  512  305  912 1315 1220 1311\n",
      "  408 1324 2105  402  718 2003 1421 1911  714  709  911  703 1213 1702]\n",
      "  2018: [ 115 2207 2102 1903  501  509  606  608 1109 1104 1503 1703 1416 1401\n",
      "  314  306  101  117  701  705  410  301 2104 1501  103  507  106 1016\n",
      " 1701 1409  404 1602  414  108  511 1002 1107 1609 1804 1217 1411  112\n",
      " 1307 1102  104  111 1901  504  920 1805 1709 1710 1407  113 2001 1907\n",
      " 1201  407  415  207 2004  401  609 1801  308 1712 2101 1601  201 2212\n",
      " 1101  601 1008 1230  203  413  109 1905 1906 1001 1216 2205 1604  901\n",
      " 1021  713 2011  611  602  710  312 1103  110 1615  505 1301 1014  902\n",
      "  107 2201 1219 1211  208 1902 2003 2009 1306  205 1412 1613  309  704\n",
      " 1330 1405  506  102 2005 1404 2010  502  607 1010 1222 1507 1421  613\n",
      "  706  303 1614  709  416  903 1229 1413 1319 1020 1706  206  922 1304\n",
      " 2216  302 1202 1803 2202 1015  923 1616  409 1607 1215  603 1610 1617\n",
      " 1603  313 1802  614  715 1904 1204  802  513 1312  805 1504 1406 1210\n",
      " 1419 2106 1909 1329  406 1106  914  718  403  801  911 2206  512  916\n",
      " 1006  912 1408 1322 2008 1606 1310  806 2007  204  202  510 2209 1302\n",
      " 1213  304 1203  717 1004 1508  612  508 2002 1608 1108  605 1009 1325\n",
      " 1327 1714 2215  307 1502 1415 1705 1003 1505 1218 1707 1311  408  305\n",
      " 1402  702  412 1324  105  610  909  719 1207 1704  917  908  114 1303\n",
      " 2213 1105 1420 2217 1612 1506 2105 1328 2107  116 1013 1220 1320  904\n",
      " 1317 2214 1214 1711 1702 2006 1212 1708 1017  514  402 1205 1911 1910\n",
      " 1417  316 1228 1410 2208  921  707  803 1414 2103  910  807 1611 1713\n",
      "  315 1908  919 1418 1011 1605 1012  716 2203 1018  604  712 2204 1223\n",
      " 2210 1326  310  924  503 1314 1315  906 1007 1403]\n",
      "  2019: [ 101  102  115  114  108  110  112  111 2101 2009 1905  501  506  608\n",
      "  613 1018  910  923 1223 1227 1230  801 1502 1801 1705 1708 1701 1406\n",
      "  701  409  301 2201 2210 2104  601 1605 1501 2216  509 1202 1804  411\n",
      "  116 2202 2011  513 1012 1105  919 1201 1601 1706  312 1001 1210 1712\n",
      " 2001  105  415  307 1101  502 1020  901 1219  401  103  406 1613  707\n",
      "  107  117 2106 1903 1108 1711  511 1002 1420  303  302 2205 2107 1901\n",
      " 1904  512  602 1103 1602 1710  704 2212  803 1614  713  104  204  606\n",
      " 1222  604  603  503 1508 1010 1805 1707 1611 1102  113  510  909 1504\n",
      " 2005  201 1713 1215  207  718  410 2215 1016 1603 1617 1507  403  416\n",
      " 1909  309 1106 1109 1503 2217  609 1704  808 1703  920  805 1413 1301\n",
      "  308 1803 1604 2206 1616  507 1609 1615 2008 1402 1610 1304 1216  504\n",
      " 1408  719 1007 1902 2007  106 1906  203 1306 1505 1021  408  414  208\n",
      " 1714 2214 1709 1303 1412  407 1308 1401 1405  205 1608 2010  508  614\n",
      "  611 1607  710  304 1907  514 1307  505 1606 1104 1802  706 1006 1302\n",
      " 1107 1217 1015 1312 1004 2003  711  412  206 1221 2102  917 1220  715\n",
      " 2103  305  316  902 1008 1414 2004  705  916 1318 1612 1327 1226 1305\n",
      " 1009 1224  904 2211 1011 1404  109  610  906 1013 1911  802  922 1019\n",
      " 1407 1218 1320  314  914 1328  717  908  306 1014 1204 1203  315 2213\n",
      "  607  311 1003  912  313 2207  413 1229 2006 1421 1212  924  807 1418\n",
      " 1317  612 2204  605 1419 1311 1309 1316  702 1005  202 1017 2203 1409\n",
      "  903  905 1211  921 1411 1225  806 2002 1331 1416 2208 1410 1319 1214\n",
      " 1702 2105 1213  404  310  708 1908  913 1415 1209  804  703  716 1323\n",
      "  918]\n",
      "  2020: [ 101  116  108 2205 2001  509  601 1002 1014 1106  903 1613 1801 1416\n",
      "  406  103 1903 1109 1227  301 1501 1102  117 1001 1301  401  901  207\n",
      " 1709 1413  302 1602  208  416  303  115 1222  110 2101  508  201  312\n",
      "  102 2002  502 1326 1617  501 1229 1601 1604 1803  305  308 1904 1507\n",
      " 1804 1101  114  105  203  107 2201 1901  608 1201 1412  409  513 1308\n",
      " 2007 1610  113  511 1215  309 2214 1417 2106 1905  917  805 1502 1708\n",
      " 1409  704  505  206  504  507 1010 1504  104 1008 1217 1701 1705  701\n",
      " 2212  803  413  801  503 1606  924 1324 1609  414  410  404 1401 1406\n",
      "  902 1006 1508 1711  402 1420 1805  923 1108  709  506 1015 2202  407\n",
      " 1616  304 1220 1319 1306 1211 1202 2107 2102 1911  602 1608  920  205\n",
      "  710  713  415 1612  204 1703 1021 1219 2008 1411 2216 2005 1607  715\n",
      "  806 1615  613 1707  307  106  914 1210 1713 1103  611 1712 2207  306\n",
      " 1910 1004 1020 1003 1614  403 1216 1312  905 1611 1902  904  606 1205\n",
      " 1710  405 1714  314 1105 1906 1331 2009 1230 1503 2215  705  706 2203\n",
      "  111 1603 1016  412 1315  603 1802 1706 2003  510  512  310  202 2010\n",
      " 2217 1316 1327  612  702 1104 1107 2204 1907  514  802 1223 1302 1414\n",
      "  109  921 1213  316  610 2004 2103 2206  311  315 1311 1323 1328 1019\n",
      " 1303 1013  915 2105 1226  919 1908 1605 1017 1305 1419 1203  605 1318\n",
      "  313 1204 2006 2104  714 1410  910  909  609  918  703 1407  717 2208\n",
      " 1405 1307  411  614 1421 1408 1314 1333  911 1317 1009  604 1325  718\n",
      " 1415 2211 1404 1012 1402 1330 1304  711 1011 1702  112 1313 1309 1218\n",
      " 1704 1214  607  707  913]\n",
      "  2021: [ 101  115  114  108  110  605 1101 1103 1507 1801 1711  116 2001 1906\n",
      " 1904  501  601 1105 1106 1302 1604 1503 1709 2009 1215 1605 1705 1413\n",
      "  409  103 1109 1202 1414  706  102 2003  612  608  902  204  412 1010\n",
      "  920  914  901  117 1802  107 2101 1903  504  613  917 1612 1501 1401\n",
      "  105 2208  502 1102 1504 1704  705  407  401  303 1003 1021 1001  509\n",
      "  505 1218 2207 1301 1601  301  308  314  603 1701 2201 2002  512 1008\n",
      " 1201 1609  208  609  511  602 1104 1607  207 1412  503 1108 1328 1703\n",
      "  916 1710 2217 1015  203 2202 2008  508 1107  510  801 1217  802  304\n",
      " 1207 1602  406  713 1902 2007  113 2205  614 1327 1014 1304  201 1805\n",
      "  416 2204 1002 1613 1611  312  307  513  606 1222 1502  202 1804  718\n",
      "  104  109 1016 1712  106  402 1419 2011 2005 1404  506 1319 1803 1420\n",
      " 1403 1714  309 1019  205  701  913 2102  414 1713 1901 2004  921  111\n",
      " 1415  415 2106 1615  911  803 1325 1614  919 1303 1606  709 1911 1608\n",
      " 1004  923  410 2214  112 1326 1219 1220 1418 1603 1508 2216 1020  404\n",
      "  904 1616  313 1227 1707 1907  710 1617  507 1229  808 1402  704 1324\n",
      "  804 1406 2203  717  909 1309 1211  403 1308  903  413 1203  702  315\n",
      " 2212  910  806  514 1610 1410 1223 1312  607  611  912 1323  712 2215\n",
      " 1506 1005 1013 1221 2206 1311 1216  306 1905  405 1214 1702 1409  408\n",
      "  206  604 1505 2107 1320  305 1306 2103 1006  316 1417 1411  715 1310\n",
      " 1316  302  707  411 2210 1205 1210 1230 1305 1909 1331 2105  610 1708\n",
      " 2104  908 1706 1009  905 1405  805 1017 2213  311 1307 2010  924 1313\n",
      " 1213 1007 1416  719 1228 2209  310 1224  714 2211 1421 1212  922 1314\n",
      " 1408  807 2006]\n",
      "  2022: ['Guatemala' 'San José Pinula' 'Villa Nueva' 'Mixco' 'Agua Blanca'\n",
      " 'Asunción Mita' 'San Manuel Chaparrón' 'Zacapa' 'Palín' 'Escuintla'\n",
      " 'Mazatenango' 'San Sebastián' 'Quetzaltenango' 'Santa Catalina La Tinta'\n",
      " 'El Jícaro' 'Sanarate' 'San Andrés' 'Sololá' 'Tecpán Guatemala'\n",
      " 'San Miguel Dueñas' 'Petapa' 'Villa Canales' 'La Democracia'\n",
      " 'Pueblo Nuevo Viñas' 'Nuevo San Carlos' 'Coatepeque' 'Puerto Barrios'\n",
      " 'El Estor' 'Patzicía' 'Antigua Guatemala' 'La Gomera' 'Cuilapa'\n",
      " 'Retalhuleu' 'Salcajá' 'San Rafael Pie de la Cuesta' 'Ayutla'\n",
      " 'Totonicapán' 'Salamá' 'San Cristóbal Acasaguastlán' 'Morazán'\n",
      " 'San Martín Jilotepeque' 'Amatitlán' 'El Progreso'\n",
      " 'Santa Lucía Cotzumalguapa' 'Barberena' 'Cobán' 'Tactic' 'Chicamán'\n",
      " 'Jutiapa' 'Chiquimula' 'San Pablo Jocopilas' 'Los Amates' 'Ciudad Vieja'\n",
      " 'Usumatlán' 'Guazacapán' 'Catarina' 'Huehuetenango'\n",
      " 'Santa María Chiquimula' 'Fray Bartolomé de las Casas' 'Poptún'\n",
      " 'El Tejar' 'Palencia' 'San José Acatempa' 'Tejutla'\n",
      " 'San Cristóbal Totonicapán' 'San Jerónimo' 'Chimaltenango'\n",
      " 'San Bartolomé Milpas Altas' 'Fraijanes' 'Morales' 'Sacapulas'\n",
      " 'Santa Cruz el Naranjo' 'San Juan Chamelco' 'Santa Catarina Pinula'\n",
      " 'Estanzuela' 'Chisec' 'Acatenango' 'San Pedro Ayampuc' 'Río Hondo'\n",
      " 'Champerico' 'Joyabaj' 'Teculután' 'Gualán' 'Samayac' 'Guastatoya'\n",
      " 'Chajul' 'Santa Apolonia' 'San Lucas Sacatepéquez' 'San José' 'Pasaco'\n",
      " 'Tiquisate' 'Guanagazapa' 'Nueva Concepción' 'Siquinalá' 'Pajapita'\n",
      " 'Malacatán' 'Aguacatán' 'Nentón' 'Sansare' 'Panajachel'\n",
      " 'Santa Lucía Milpas Altas' 'Flores' 'Ixcán' 'Sumpango' 'Jalapa'\n",
      " 'San Pedro Sacatepéquez' 'Santa Rosa de Lima' 'San Gabriel'\n",
      " 'San Cristóbal Verapaz' 'Sayaxché' 'Chiantla' 'San Pedro Carchá'\n",
      " 'Chinautla' 'Camotán' 'Chiquimulilla' 'San Juan Sacatepéquez'\n",
      " 'Yupiltepeque' 'Tamahú' 'San Francisco' 'Santa María Nebaj'\n",
      " 'Quezaltepeque' 'Cubulco' 'Purulhá' 'Dolores' 'Santa Ana' 'Chiché'\n",
      " 'Nueva Santa Rosa' 'Oratorio' 'Olopa' 'San Andrés Villa Seca' 'Tucurú'\n",
      " 'Santa Cruz Verapaz' 'Zaragoza' 'San Pedro Pinula' 'Esquipulas'\n",
      " 'San Antonio la Paz' 'Jocotenango' 'Cuyotenango' 'San Felipe Retalhuleu'\n",
      " 'Santa Cruz Muluá' 'San Marcos' 'Santa Cruz del Quiché' 'Río Bravo'\n",
      " 'Las Cruces' 'Rabinal' 'San Benito' 'Raxruhá' 'Santa Catarina Ixtahuacán'\n",
      " 'San Juan Cotzal' 'San Martín Zapotitlán' 'San Antonio Suchitepéquez'\n",
      " 'Masagua' 'Pastores' 'El Chal' 'Santa María de Jesús'\n",
      " 'San Agustín Acasaguastlán' 'Santa Lucía Utatlán' 'San Antonio Huista'\n",
      " 'Yepocapa' 'Santo Domingo Xenacoj' 'Panzós' 'Cabañas' 'La Esperanza'\n",
      " 'El Palmar' 'Comapa' 'Parramos' 'San Andrés Itzapa' 'San José del Golfo'\n",
      " 'Chahal' 'Palestina de los Altos' 'San Luis Jilotepeque'\n",
      " 'Concepción las Minas' 'El Asintal' 'San Pedro Necta' 'Monjas'\n",
      " 'San Francisco Zapotitlán' 'San Vicente Pacaya' 'San Juan Ostuncalco'\n",
      " 'Colotenango' 'Cuilco' 'Atescatempa' 'Taxisco'\n",
      " 'San Bartolo Aguas Calientes' 'San Juan Bautista' 'San Miguel Chicaj'\n",
      " 'Livingston' 'Melchor de Mencos' 'Quesada' 'Chichicastenango' 'Canillá'\n",
      " 'San Raymundo' 'Colomba' 'San Luis' 'La Libertad' 'Moyuta' 'Ipala'\n",
      " 'Sipacate' 'San Juan Ermita' 'San Miguel Uspantán' 'Santiago Atitlán'\n",
      " 'San Pedro Soloma' 'Patulul' 'Flores Costa Cuca' 'San Bernardino'\n",
      " 'Santiago Sacatepéquez' 'Comalapa' 'San José el Ídolo'\n",
      " 'San Rafael las Flores' 'San Pedro Jocopilas' 'San Juan Ixcoy' 'Zunil'\n",
      " 'San Juan Alotenango' 'Jalpatagua' 'Iztapa' 'Ixchiguán'\n",
      " 'Santa Catarina Mita' 'Mataquescuintla' 'Senahú' 'Chicacao'\n",
      " 'San Lucas Tolimán' 'San Martín Sacatepéquez' 'Santa Cruz Balanyá'\n",
      " 'El Quetzal' 'San Jacinto' 'Santa Eulalia' 'Ocós' 'Olintepeque'\n",
      " 'San Pedro la Laguna' 'Chuarrancho' 'Patzún' 'Santa Cruz la Laguna'\n",
      " 'Santa Lucía la Reforma' 'Pueblo Nuevo' 'San Mateo'\n",
      " 'San Antonio Sacatepéquez' 'San Francisco el Alto' 'Cantel'\n",
      " 'San Juan Tecuaco' 'Zacualpa' 'Esquipulas Palo Gordo' 'Génova'\n",
      " 'San José La Máquina' 'Granados' 'Casillas' 'Santo Domingo Suchitepéquez'\n",
      " 'San Pablo' 'Cajolá' 'San Antonio Aguas Calientes' 'San José Chacayá'\n",
      " 'San Andrés Sajcabajá' 'San Miguel Pochuta' 'San Ildefonso Ixtahuacán'\n",
      " 'San Andrés Semetabaj' 'La Blanca' 'Pachalum' 'San Diego' 'Cunén'\n",
      " 'Barrillas' 'Nahualá' 'Magdalena Milpas Altas' 'Concepción Chiquirichapa'\n",
      " 'Santa Bárbara' 'Huité' 'San José  Poaquíl' 'San Miguel Ixtahuacán'\n",
      " 'Momostenango' 'Zapotitlán' 'Santa Catarina Palopó' 'San Miguel Panán'\n",
      " 'El Rodeo' 'Malacatancito' 'Santa María Ixhuatán' 'El Tumbador'\n",
      " 'Santa María Visitación' 'Jocotán' 'Jerez' 'Chinique' 'Lanquín'\n",
      " 'Santa Clara la Laguna' 'Tajumulco' 'San Cristóbal Cucho'\n",
      " 'Nuevo Progreso' 'Santa Catarina Barahona' 'San Lorenzo'\n",
      " 'Santo Tomas la Unión' 'Almolonga' 'San Carlos Sija' 'El Chol'\n",
      " 'San Bartolomé Jocotenango' 'Jacaltenango' 'Huitán' 'San Juan la Laguna'\n",
      " 'San Jorge' 'Sibilia' 'Tacaná' 'Zunilito' 'San Antonio Ilotenango'\n",
      " 'Conguaco']\n",
      "  2023: ['Palencia' 'Guatemala' 'Villa Canales' 'San Juan Sacatepéquez'\n",
      " 'Usumatlán' 'La Gomera' 'Escuintla' 'Nueva Concepción' 'Cuilapa'\n",
      " 'Barberena' 'Patulul' 'Retalhuleu' 'Salcajá' 'Sibinal'\n",
      " 'San Cristóbal Cucho' 'San Jerónimo' 'Guastatoya' 'Puerto Barrios'\n",
      " 'Flores' 'Zaragoza' 'San José Pinula' 'Amatitlán' 'Tiquisate'\n",
      " 'San Bernardino' 'Huehuetenango' 'San Andrés Itzapa' 'Petapa' 'Moyuta'\n",
      " 'San José la Arada' 'Estanzuela' 'Dolores' 'Mixco' 'Jutiapa' 'San José'\n",
      " 'Guazacapán' 'Colomba' 'San Pedro Carchá' 'Livingston'\n",
      " 'Santa Cruz del Quiché' 'Panajachel' 'Santo Domingo Xenacoj'\n",
      " 'Villa Nueva' 'El Progreso' 'La Democracia' 'Coatepeque' 'Cobán'\n",
      " 'Asunción Mita' 'El Tumbador' 'Cuilco' 'Panzós' 'San Benito'\n",
      " 'Antigua Guatemala' 'Fraijanes' 'Jalpatagua' 'Jalapa'\n",
      " 'Santa Rosa de Lima' 'Chicacao' 'Champerico' 'Santa Cruz Verapaz'\n",
      " 'Morales' 'Río Hondo' 'San Pablo' 'Sacapulas' 'Taxisco' 'Palín' 'Iztapa'\n",
      " 'Chiquimula' 'Melchor de Mencos' 'San Rafael las Flores'\n",
      " 'San Pedro Pinula' 'Ayutla' 'Sayaxché' 'San Martín Jilotepeque' 'Tejutla'\n",
      " 'San Luis' 'Patzicía' 'Tecpán Guatemala' 'Santiago Sacatepéquez'\n",
      " 'Teculután' 'Santa Lucía Cotzumalguapa' 'Siquinalá' 'Masagua'\n",
      " 'San Pedro Sacatepéquez' 'Malacatán' 'Salamá' 'Sololá' 'Chimaltenango'\n",
      " 'Yepocapa' 'San Sebastián' 'Santa Catarina Pinula' 'San Vicente Pacaya'\n",
      " 'San Carlos Sija' 'Ciudad Vieja' 'Quetzaltenango' 'Los Amates'\n",
      " 'San Pablo la Laguna' 'San José Acatempa' 'La Libertad' 'Ixcán'\n",
      " 'Sumpango' 'San Andrés Villa Seca' 'San Francisco' 'Nuevo San Carlos'\n",
      " 'Rabinal' 'Santa Ana' 'Pueblo Nuevo' 'San José La Máquina'\n",
      " 'San Pedro Ayampuc' 'Chichicastenango' 'El Tejar' 'San Juan Ermita'\n",
      " 'Poptún' 'El Estor' 'Santa María Nebaj' 'San José del Golfo'\n",
      " 'San Agustín Acasaguastlán' 'San Lucas Sacatepéquez' 'Parramos'\n",
      " 'San Luis Jilotepeque' 'Chiantla' 'Momostenango' 'Tucurú' 'Acatenango'\n",
      " 'Pajapita' 'La Esperanza' 'Cantel' 'San Marcos' 'San Mateo Ixtatán'\n",
      " 'Santa Cruz Muluá' 'Chinautla' 'San Juan Ostuncalco' 'Catarina' 'Chisec'\n",
      " 'San Antonio Aguas Calientes' 'Sanarate' 'San Cristóbal Totonicapán'\n",
      " 'Tactic' 'San Miguel Chicaj' 'Santa Lucía Milpas Altas'\n",
      " 'Santa Catalina La Tinta' 'Mataquescuintla' 'Guanagazapa'\n",
      " 'Santa Cruz Balanyá' 'Santo Tomas la Unión' 'Totonicapán'\n",
      " 'San Pedro Jocopilas' 'San Antonio la Paz' 'Gualán' 'Esquipulas' 'Jerez'\n",
      " 'Chajul' 'Pastores' 'Oratorio' 'San Juan Chamelco'\n",
      " 'San Francisco el Alto' 'San Juan Bautista' 'Patzún' 'Quesada' 'Cabañas'\n",
      " 'San Martín Zapotitlán' 'Atescatempa' 'San Rafael Pie de la Cuesta'\n",
      " 'San Bartolomé Milpas Altas' 'Sipacate' 'Santo Domingo Suchitepéquez'\n",
      " 'San Mateo' 'Purulhá' 'Santa Cruz el Naranjo' 'Cuyotenango' 'Zunil'\n",
      " 'San Miguel Panán' 'Zacapa' 'Comapa' 'Cubulco' 'Quezaltepeque'\n",
      " 'Río Bravo' 'Sansare' 'Las Cruces' 'Raxruhá' 'Chiché' 'El Asintal'\n",
      " 'Colotenango' 'San Jorge' 'San Antonio Suchitepéquez' 'Ocós'\n",
      " 'San Jacinto' 'Ipala' 'El Jícaro' 'Nueva Santa Rosa' 'Monjas'\n",
      " 'Comitancillo' 'Fray Bartolomé de las Casas' 'San Lucas Tolimán'\n",
      " 'Mazatenango' 'Chuarrancho' 'San José el Ídolo' 'San Felipe Retalhuleu'\n",
      " 'Chiquimulilla' 'Senahú' 'Huité' 'Santa Bárbara' 'Chahal'\n",
      " 'San Cristóbal Acasaguastlán' 'Santa Catarina Barahona' 'El Rodeo'\n",
      " 'Cunén' 'Jocotenango' 'Samayac' 'Chicamán' 'Santa Lucía Utatlán'\n",
      " 'San Pedro la Laguna' 'San Juan Cotzal' 'San Antonio Sacatepéquez'\n",
      " 'La Blanca' 'Nahualá' 'San Cristóbal Verapaz' 'Santa Catarina Mita'\n",
      " 'Olopa' 'Jocotán' 'El Palmar' 'San Juan la Laguna' 'Camotán' 'Barrillas'\n",
      " 'San Miguel Dueñas' 'San Pablo Jocopilas' 'San Juan Alotenango'\n",
      " 'Jacaltenango' 'Patzité' 'Génova' 'San Bartolo Aguas Calientes' 'Pasaco'\n",
      " 'Comalapa' 'Palestina de los Altos' 'Agua Blanca' 'Santa María Ixhuatán'\n",
      " 'Morazán' 'Tamahú' 'Yupiltepeque' 'Santa María de Jesús'\n",
      " 'San Miguel Pochuta' 'Pueblo Nuevo Viñas' 'San Miguel Uspantán' 'Tacaná'\n",
      " 'Santa Catarina Ixtahuacán' 'Santiago Atitlán' 'El Chal' 'Santa Eulalia'\n",
      " 'Nentón' 'San Andrés Sajcabajá' 'San Andrés' 'Olintepeque' 'La Reforma'\n",
      " 'La Unión' 'San Lorenzo' 'San Francisco Zapotitlán' 'Flores Costa Cuca'\n",
      " 'San Carlos Alzatate' 'Joyabaj' 'Casillas' 'Aguacatán' 'San Raymundo'\n",
      " 'El Chol' 'San José Chacayá' 'El Quetzal' 'San Miguel Siguilá' 'Cabricán'\n",
      " 'Ixchiguán' 'Santa María Chiquimula' 'San Ildefonso Ixtahuacán'\n",
      " 'San Pedro Necta' 'San Juan Tecuaco' 'Sipacapa' 'Cahabón'\n",
      " 'San Miguel Acatán' 'Magdalena Milpas Altas' 'San Sebastián Coatán'\n",
      " 'Conguaco' 'San Andrés Semetabaj' 'San Miguel Ixtahuacán'\n",
      " 'Esquipulas Palo Gordo' 'San José  Poaquíl' 'San Diego'\n",
      " 'San Rafael Petzal' 'Pachalum' 'San Antonio Ilotenango' 'San Juan Ixcoy'\n",
      " 'Zacualpa' 'Malacatancito' 'Zunilito' 'El Adelanto'\n",
      " 'San Martín Sacatepéquez']\n",
      "\n",
      "Columna: sexo_per\n",
      "  2014: [1 2 9]\n",
      "  2015: [2 1 9]\n",
      "  2016: [2 1 9]\n",
      "  2017: [1 9 2]\n",
      "  2018: [1 9 2]\n",
      "  2019: [1 9 2]\n",
      "  2020: [1 2 9]\n",
      "  2021: [1 9 2]\n",
      "  2022: ['Hombre' 'Mujer' 'Ignorado']\n",
      "  2023: ['Hombre' 'Mujer' 'Ignorado']\n",
      "\n",
      "Columna: tipo_eve\n",
      "  2014: [1 2 3 4 5]\n",
      "  2015: [1 2 3 4 5]\n",
      "  2016: [1 2 3 4 5]\n",
      "  2017: [1 2 4 3 5]\n",
      "  2018: [2 1 3 7 4 5 8 6]\n",
      "  2019: [ 6  1  3  4  2  5 99]\n",
      "  2020: [1 6 3 2 8 7 4 5]\n",
      "  2021: [ 6  1  2  7  3  8  5 99]\n",
      "  2022: ['Colisión' 'Choque' 'Derrape' 'Vuelco' 'Embarrancó' 'Atropello' 'Caída'\n",
      " 'Encunetó']\n",
      "  2023: ['Colisión' 'Derrape' 'Choque' 'Vuelco' 'Embarrancó' 'Atropello'\n",
      " 'Ignorado']\n",
      "\n",
      "Columna: tipo_veh\n",
      "  2014: [ 1  2  4  3 99  9 13  7  6  5 12 14  8 15 11 18 10 17]\n",
      "  2015: [ 1  4  3  7  6  2 11 99 12  5  9 14  8 18 15 10 17 13 16]\n",
      "  2016: [ 1  4  3  7  6  2 11 99 12  5  9 14  8 18 15 10 17 13 16]\n",
      "  2017: [12  1  4 14  3  5  2  8  9 22  6 11 99 10  7 18 13]\n",
      "  2018: [ 4  1  3  2 18 11  9  6 99  5 12  7  8 14 10 13 22 23 16 17]\n",
      "  2019: [ 4  2  1  3 12 14  5 22 99  8  6 13  9  7 11 18 16 10]\n",
      "  2020: [ 2  1  4  3 18  9 14 99  5 12  6 11  7  8 22 13 16 10]\n",
      "  2021: [ 4  2 99  3  1 18  5  6 11 12  8 14  9 13 22  7 10]\n",
      "  2022: ['Automóvil' 'Motocicleta' 'Camioneta' 'Moto taxi' 'Camión' 'Pick up'\n",
      " 'Bus urbano' 'Microbús' 'Cabezal' 'Panel' 'Jeep' 'Ignorado' 'Tractor'\n",
      " 'Cuatrimoto' 'Bicicleta' 'Bus extraurbano' 'Grúa' 'Motos acuáticas'\n",
      " 'Taxi']\n",
      "  2023: ['Pick up' 'Motocicleta' 'Automóvil' 'Camioneta' 'Cabezal' 'Cuatrimoto'\n",
      " 'Camión' 'Taxi' 'Bus urbano' 'Microbús' 'Ignorado' 'Panel' 'Tractor'\n",
      " 'Jeep' 'Bicicleta' 'Moto taxi' 'Grúa' 'Bus extraurbano']\n",
      "\n",
      "Columna: zona_ocu\n",
      "  2014: [ 7  1 99  8  5 12 19  9  3 10  2 18 17  6 15 11 13  4 24 16 21 25]\n",
      "  2015: [ 1 16  7 12  8 99 10  5  2 18  3  4 11  6  9 13 21 14 19 15 24 17 25]\n",
      "  2016: [ 1 16  7 12  8 99 10  5  2 18  3  4 11  6  9 13 21 14 19 15 24 17 25]\n",
      "  2017: [ 6 99 10  1  5 18  3  8 11  4  2 12 15 19  9 13 21  7 14 17 24 16 25]\n",
      "  2018: [99  5 12  6  1  3 18  2 10  7 17 16 13  8 11  4  9 25 14 15 19 21 24]\n",
      "  2019: [ 3  1 18 99  7  9  4 10 12  5 13  6 11 14  2 17  8 15 19 25 16 21 24]\n",
      "  2020: [ 6 12 99  1 19  5  7  8  3 18  9 10 13  2 17 11 21 15 25 16  4 14 24]\n",
      "  2021: [ 8 18 21 99  4  6 12  7  2  5  3  1 11 10 25 13 17 24 19  9 16 15 14]\n",
      "  2022: [9 'Ignorado' 7 1 6 13 2 18 12 21 3 10 16 8 5 25 4 11 19 14 17 15 24]\n",
      "  2023: ['Ignorado' 18 6 13 12 9 1 10 7 4 5 3 19 11 21 17 2 8 25 16 15 14 24]\n"
     ]
    }
   ],
   "source": [
    "# Mostrar valores únicos por columna, agrupando por columna y mostrando los valores por año\n",
    "columnas = df2014.columns  # Asume que todas las columnas están en todos los dataframes\n",
    "\n",
    "for col in columnas:\n",
    "    print(f\"\\nColumna: {col}\")\n",
    "    for year, df in zip(range(2014, 2024), [df2014, df2015, df2016, df2017, df2018, df2019, df2020, df2021, df2022, df2023]):\n",
    "        if col in df.columns:\n",
    "            print(f\"  {year}: {df[col].unique()}\")\n",
    "        else:\n",
    "            print(f\"  {year}: (no existe)\")"
   ]
  },
  {
   "cell_type": "code",
   "execution_count": 0,
   "metadata": {
    "application/vnd.databricks.v1+cell": {
     "cellMetadata": {
      "byteLimit": 2048000,
      "rowLimit": 10000
     },
     "inputWidgets": {},
     "nuid": "a1fa2380-2e03-4a9c-9c5d-706b79ddad24",
     "showTitle": false,
     "tableResultSettingsMap": {},
     "title": ""
    }
   },
   "outputs": [],
   "source": [
    "# Diccionario de mapeo de códigos a colores\n",
    "colores = {\n",
    "    1: \"Rojo\",\n",
    "    2: \"Blanco\",\n",
    "    3: \"Azul\",\n",
    "    4: \"Gris\",\n",
    "    5: \"Negro\",\n",
    "    6: \"Verde\",\n",
    "    7: \"Amarillo\",\n",
    "    8: \"Celeste\",\n",
    "    9: \"Corinto\",\n",
    "    10: \"Café\",\n",
    "    11: \"Beige\",\n",
    "    12: \"Turquesa\",\n",
    "    13: \"Marfil\",\n",
    "    14: \"Anaranjado\",\n",
    "    15: \"Aqua\",\n",
    "    16: \"Morado\",\n",
    "    17: \"Rosado\",\n",
    "    99: \"Ignorado\"\n",
    "}\n",
    "\n",
    "def mapear_color(valor):\n",
    "    try:\n",
    "        return colores.get(int(valor), \"Otro\")\n",
    "    except:\n",
    "        return \"Otro\"\n",
    "\n",
    "# Aplica la función a todos los dataframes si existe la columna color_veh\n",
    "for df in [df2014, df2015, df2016, df2017, df2018, df2019, df2020, df2021]:\n",
    "    if 'color_veh' in df.columns:\n",
    "        df['color_veh'] = df['color_veh'].apply(mapear_color)"
   ]
  },
  {
   "cell_type": "code",
   "execution_count": 0,
   "metadata": {
    "application/vnd.databricks.v1+cell": {
     "cellMetadata": {
      "byteLimit": 2048000,
      "rowLimit": 10000
     },
     "inputWidgets": {},
     "nuid": "f6dbc2a5-e77f-431d-b8af-7821f917675b",
     "showTitle": false,
     "tableResultSettingsMap": {},
     "title": ""
    }
   },
   "outputs": [],
   "source": [
    "# Diccionario de mapeo de códigos a departamentos\n",
    "departamentos = {\n",
    "    1: \"Guatemala\",\n",
    "    2: \"El Progreso\",\n",
    "    3: \"Sacatepéquez\",\n",
    "    4: \"Chimaltenango\",\n",
    "    5: \"Escuintla\",\n",
    "    6: \"Santa Rosa\",\n",
    "    7: \"Sololá\",\n",
    "    8: \"Totonicapán\",\n",
    "    9: \"Quetzaltenango\",\n",
    "    10: \"Suchitepéquez\",\n",
    "    11: \"Retalhuleu\",\n",
    "    12: \"San Marcos\",\n",
    "    13: \"Huehuetenango\",\n",
    "    14: \"Quiché\",\n",
    "    15: \"Baja Verapaz\",\n",
    "    16: \"Alta Verapaz\",\n",
    "    17: \"Petén\",\n",
    "    18: \"Izabal\",\n",
    "    19: \"Zacapa\",\n",
    "    20: \"Chiquimula\",\n",
    "    21: \"Jalapa\",\n",
    "    22: \"Jutiapa\"\n",
    "}\n",
    "\n",
    "def mapear_depto(valor):\n",
    "    try:\n",
    "        return departamentos.get(int(valor), \"Otro\")\n",
    "    except:\n",
    "        return \"Otro\"\n",
    "\n",
    "# Aplica la función a todos los dataframes si existe la columna depto_ocu\n",
    "for df in [df2014, df2015, df2016, df2017, df2018, df2019, df2020, df2021]:\n",
    "    if 'depto_ocu' in df.columns:\n",
    "        df['depto_ocu'] = df['depto_ocu'].apply(mapear_depto)"
   ]
  },
  {
   "cell_type": "code",
   "execution_count": 0,
   "metadata": {
    "application/vnd.databricks.v1+cell": {
     "cellMetadata": {
      "byteLimit": 2048000,
      "rowLimit": 10000
     },
     "inputWidgets": {},
     "nuid": "d36bf293-cf79-4101-a133-2c6cb0a3b22b",
     "showTitle": false,
     "tableResultSettingsMap": {},
     "title": ""
    }
   },
   "outputs": [],
   "source": [
    "# Cambiar 999 por 'Ignorada' en edad_per para todos los dataframes donde exista la columna\n",
    "for df in [df2014, df2015, df2016, df2017, df2018, df2019, df2020, df2021, df2022, df2023]:\n",
    "    if 'edad_per' in df.columns:\n",
    "        df['edad_per'] = df['edad_per'].replace(999, 'Ignorada')\n",
    "\n",
    "# Diccionario para dia_sem_ocu\n",
    "dias_semana = {\n",
    "    1: \"Lunes\",\n",
    "    2: \"Martes\",\n",
    "    3: \"Miércoles\",\n",
    "    4: \"Jueves\",\n",
    "    5: \"Viernes\",\n",
    "    6: \"Sábado\",\n",
    "    7: \"Domingo\"\n",
    "}\n",
    "\n",
    "# Aplica el mapeo para todos los dataframes\n",
    "for year, df in zip(range(2014, 2024), [df2014, df2015, df2016, df2017, df2018, df2019, df2020, df2021]):\n",
    "    if 'dia_sem_ocu' in df.columns:\n",
    "        df['dia_sem_ocu'] = df['dia_sem_ocu'].map(dias_semana)"
   ]
  },
  {
   "cell_type": "code",
   "execution_count": 0,
   "metadata": {
    "application/vnd.databricks.v1+cell": {
     "cellMetadata": {
      "byteLimit": 2048000,
      "rowLimit": 10000
     },
     "inputWidgets": {},
     "nuid": "da71f2fc-d989-48bb-8b91-b1990ca62660",
     "showTitle": false,
     "tableResultSettingsMap": {},
     "title": ""
    }
   },
   "outputs": [],
   "source": [
    "mupio_dict = {\n",
    "    101: \"Guatemala\",\n",
    "    102: \"Santa Catarina Pinula\",\n",
    "    103: \"San José Pinula\",\n",
    "    104: \"San José del Golfo\",\n",
    "    105: \"Palencia\",\n",
    "    106: \"Chinautla\",\n",
    "    107: \"San Pedro Ayampuc\",\n",
    "    108: \"Mixco\",\n",
    "    109: \"San Pedro Sacatepéquez\",\n",
    "    110: \"San Juan Sacatepéquez\",\n",
    "    111: \"San Raymundo\",\n",
    "    112: \"Chuarrancho\",\n",
    "    113: \"Fraijanes\",\n",
    "    114: \"Amatitlán\",\n",
    "    115: \"Villa Nueva\",\n",
    "    116: \"Villa Canales\",\n",
    "    117: \"Petapa\",\n",
    "    201: \"Guastatoya\",\n",
    "    202: \"Morazán\",\n",
    "    203: \"San Agustín Acasaguastlán\",\n",
    "    204: \"San Cristóbal Acasaguastlán\",\n",
    "    205: \"El Jícaro\",\n",
    "    206: \"Sansare\",\n",
    "    207: \"Sanarate\",\n",
    "    208: \"San Antonio la Paz\",\n",
    "    301: \"Antigua Guatemala\",\n",
    "    302: \"Jocotenango\",\n",
    "    303: \"Pastores\",\n",
    "    304: \"Sumpango\",\n",
    "    305: \"Santo Domingo Xenacoj\",\n",
    "    306: \"Santiago Sacatepéquez\",\n",
    "    307: \"San Bartolomé Milpas Altas\",\n",
    "    308: \"San Lucas Sacatepéquez\",\n",
    "    309: \"Santa Lucía Milpas Altas\",\n",
    "    310: \"Magdalena Milpas Altas\",\n",
    "    311: \"Santa María de Jesús\",\n",
    "    312: \"Ciudad Vieja\",\n",
    "    313: \"San Miguel Dueñas\",\n",
    "    314: \"San Juan Alotenango\",\n",
    "    315: \"San Antonio Aguas Calientes\",\n",
    "    316: \"Santa Catarina Barahona\",\n",
    "    401: \"Chimaltenango\",\n",
    "    402: \"San José Poaquíl\",\n",
    "    403: \"San Martín Jilotepeque\",\n",
    "    404: \"Comalapa\",\n",
    "    405: \"Santa Apolonia\",\n",
    "    406: \"Tecpán Guatemala\",\n",
    "    407: \"Patzún\",\n",
    "    408: \"San Miguel Pochuta\",\n",
    "    409: \"Patzicía\",\n",
    "    410: \"Santa Cruz Balanyá\",\n",
    "    411: \"Acatenango\",\n",
    "    412: \"Yepocapa\",\n",
    "    413: \"San Andrés Itzapa\",\n",
    "    414: \"Parramos\",\n",
    "    415: \"Zaragoza\",\n",
    "    416: \"El Tejar\",\n",
    "    501: \"Escuintla\",\n",
    "    502: \"Santa Lucía Cotzumalguapa\",\n",
    "    503: \"La Democracia\",\n",
    "    504: \"Siquinalá\",\n",
    "    505: \"Masagua\",\n",
    "    506: \"Tiquisate\",\n",
    "    507: \"La Gomera\",\n",
    "    508: \"Guanagazapa\",\n",
    "    509: \"San José\",\n",
    "    510: \"Iztapa\",\n",
    "    511: \"Palín\",\n",
    "    512: \"San Vicente Pacaya\",\n",
    "    513: \"Nueva Concepción\",\n",
    "    514: \"Sipacate\",\n",
    "    601: \"Cuilapa\",\n",
    "    602: \"Barberena\",\n",
    "    603: \"Santa Rosa de Lima\",\n",
    "    604: \"Casillas\",\n",
    "    605: \"San Rafael Las Flores\",\n",
    "    606: \"Oratorio\",\n",
    "    607: \"San Juan Tecuaco\",\n",
    "    608: \"Chiquimulilla\",\n",
    "    609: \"Taxisco\",\n",
    "    610: \"Santa María Ixhuatán\",\n",
    "    611: \"Guazacapán\",\n",
    "    612: \"Santa Cruz el Naranjo\",\n",
    "    613: \"Pueblo Nuevo Viñas\",\n",
    "}\n",
    "\n"
   ]
  },
  {
   "cell_type": "code",
   "execution_count": 0,
   "metadata": {
    "application/vnd.databricks.v1+cell": {
     "cellMetadata": {
      "byteLimit": 2048000,
      "rowLimit": 10000
     },
     "inputWidgets": {},
     "nuid": "2021968c-8ab5-4fc4-b474-236d555902ff",
     "showTitle": false,
     "tableResultSettingsMap": {},
     "title": ""
    }
   },
   "outputs": [],
   "source": [
    "# Concatenar todos los DataFrames\n",
    "df_total = pd.concat([df2014, df2015, df2016, df2017, df2018, df2019, df2020, df2021, df2022, df2023], ignore_index=True)\n",
    "\n",
    "# Guardar como archivo Excel en la carpeta actual\n",
    "df_total.to_excel(\"Vehiculos_concatenado.xlsx\", index=False)"
   ]
  },
  {
   "cell_type": "code",
   "execution_count": 0,
   "metadata": {
    "application/vnd.databricks.v1+cell": {
     "cellMetadata": {
      "byteLimit": 2048000,
      "rowLimit": 10000
     },
     "inputWidgets": {},
     "nuid": "4b97a148-bb4e-4bd7-a363-45571bf52907",
     "showTitle": false,
     "tableResultSettingsMap": {},
     "title": ""
    }
   },
   "outputs": [
    {
     "name": "stdout",
     "output_type": "stream",
     "text": [
      "ano_ocu               int64\n",
      "color_veh            object\n",
      "depto_ocu            object\n",
      "dia_ocu               int64\n",
      "dia_sem_ocu          object\n",
      "edad_per             object\n",
      "edad_quinquenales    object\n",
      "estado_con           object\n",
      "g_edad_60ymas        object\n",
      "g_edad_80ymas        object\n",
      "g_hora               object\n",
      "g_hora_5             object\n",
      "g_modelo_veh         object\n",
      "hora_ocu             object\n",
      "marca_veh            object\n",
      "mayor_menor          object\n",
      "mes_ocu              object\n",
      "modelo_veh           object\n",
      "mupio_ocu            object\n",
      "sexo_per             object\n",
      "tipo_eve             object\n",
      "tipo_veh             object\n",
      "zona_ocu             object\n",
      "dtype: object\n"
     ]
    }
   ],
   "source": [
    "print(df_total.dtypes)"
   ]
  },
  {
   "cell_type": "code",
   "execution_count": 0,
   "metadata": {
    "application/vnd.databricks.v1+cell": {
     "cellMetadata": {
      "byteLimit": 2048000,
      "rowLimit": 10000
     },
     "inputWidgets": {},
     "nuid": "8de89691-b620-47ca-a16d-2e76967e65e4",
     "showTitle": false,
     "tableResultSettingsMap": {},
     "title": ""
    }
   },
   "outputs": [],
   "source": [
    "# Convierte las columnas especificadas a int y el resto a str en df_total\n",
    "cols_int = ['ano_ocu', 'dia_ocu', 'hora_ocu']\n",
    "for col in cols_int:\n",
    "    if col in df_total.columns:\n",
    "        df_total[col] = pd.to_numeric(df_total[col], errors='coerce').astype('Int64')\n",
    "\n",
    "for col in df_total.columns:\n",
    "    if col not in cols_int:\n",
    "        df_total[col] = df_total[col].astype(str)"
   ]
  },
  {
   "cell_type": "code",
   "execution_count": 0,
   "metadata": {
    "application/vnd.databricks.v1+cell": {
     "cellMetadata": {
      "byteLimit": 2048000,
      "rowLimit": 10000
     },
     "inputWidgets": {},
     "nuid": "0748564f-024f-4ed3-abde-e247605c2fd2",
     "showTitle": false,
     "tableResultSettingsMap": {},
     "title": ""
    }
   },
   "outputs": [
    {
     "name": "stdout",
     "output_type": "stream",
     "text": [
      "ano_ocu               Int64\n",
      "color_veh            object\n",
      "depto_ocu            object\n",
      "dia_ocu               Int64\n",
      "dia_sem_ocu          object\n",
      "edad_per             object\n",
      "edad_quinquenales    object\n",
      "estado_con           object\n",
      "g_edad_60ymas        object\n",
      "g_edad_80ymas        object\n",
      "g_hora               object\n",
      "g_hora_5             object\n",
      "g_modelo_veh         object\n",
      "hora_ocu              Int64\n",
      "marca_veh            object\n",
      "mayor_menor          object\n",
      "mes_ocu              object\n",
      "modelo_veh           object\n",
      "mupio_ocu            object\n",
      "sexo_per             object\n",
      "tipo_eve             object\n",
      "tipo_veh             object\n",
      "zona_ocu             object\n",
      "dtype: object\n"
     ]
    }
   ],
   "source": [
    "print(df_total.dtypes)"
   ]
  },
  {
   "cell_type": "markdown",
   "metadata": {
    "application/vnd.databricks.v1+cell": {
     "cellMetadata": {},
     "inputWidgets": {},
     "nuid": "320502dc-252a-4608-b73f-6dc5c0943439",
     "showTitle": false,
     "tableResultSettingsMap": {},
     "title": ""
    }
   },
   "source": [
    "# Analisis #"
   ]
  },
  {
   "cell_type": "code",
   "execution_count": 0,
   "metadata": {
    "application/vnd.databricks.v1+cell": {
     "cellMetadata": {
      "byteLimit": 2048000,
      "rowLimit": 10000
     },
     "inputWidgets": {},
     "nuid": "011a70f1-4819-4c53-bb29-42e54923308b",
     "showTitle": false,
     "tableResultSettingsMap": {},
     "title": ""
    }
   },
   "outputs": [],
   "source": [
    "import os\n",
    "import sys\n",
    "\n",
    "# Fuerza a Spark a usar el Python de este mismo entorno\n",
    "os.environ[\"PYSPARK_PYTHON\"] = sys.executable\n",
    "os.environ[\"PYSPARK_DRIVER_PYTHON\"] = sys.executable"
   ]
  },
  {
   "cell_type": "code",
   "execution_count": 0,
   "metadata": {
    "application/vnd.databricks.v1+cell": {
     "cellMetadata": {
      "byteLimit": 2048000,
      "rowLimit": 10000
     },
     "inputWidgets": {},
     "nuid": "738ad673-a1df-48af-b58e-1343fdb0f7bd",
     "showTitle": false,
     "tableResultSettingsMap": {},
     "title": ""
    }
   },
   "outputs": [
    {
     "name": "stdout",
     "output_type": "stream",
     "text": [
      "Spark runtime: 4.0.0\n"
     ]
    }
   ],
   "source": [
    "from pyspark.sql import SparkSession\n",
    "\n",
    "spark = (\n",
    "    SparkSession.builder\n",
    "    .appName(\"MiApp\")\n",
    "    .getOrCreate()\n",
    ")\n",
    "print(\"Spark runtime:\", spark.version)"
   ]
  },
  {
   "cell_type": "code",
   "execution_count": 0,
   "metadata": {
    "application/vnd.databricks.v1+cell": {
     "cellMetadata": {
      "byteLimit": 2048000,
      "rowLimit": 10000
     },
     "inputWidgets": {},
     "nuid": "c42614a3-4fcd-446b-a420-1d44c35714aa",
     "showTitle": false,
     "tableResultSettingsMap": {},
     "title": ""
    }
   },
   "outputs": [
    {
     "name": "stdout",
     "output_type": "stream",
     "text": [
      "+-------+---------+-------------+-------+-----------+--------+-----------------+----------+-------------+-------------+------+--------+------------+--------+---------+-----------+-------+----------+---------+--------+--------+--------+--------+\n",
      "|ano_ocu|color_veh|    depto_ocu|dia_ocu|dia_sem_ocu|edad_per|edad_quinquenales|estado_con|g_edad_60ymas|g_edad_80ymas|g_hora|g_hora_5|g_modelo_veh|hora_ocu|marca_veh|mayor_menor|mes_ocu|modelo_veh|mupio_ocu|sexo_per|tipo_eve|tipo_veh|zona_ocu|\n",
      "+-------+---------+-------------+-------+-----------+--------+-----------------+----------+-------------+-------------+------+--------+------------+--------+---------+-----------+-------+----------+---------+--------+--------+--------+--------+\n",
      "|   2014|    Negro|    Guatemala|      1|  Miércoles|      20|                5|         9|            3|            3|     1|       1|         nan|       4|       32|          1|      1|         3|      101|       1|       1|       1|       7|\n",
      "|   2014| Ignorado|    Guatemala|      1|  Miércoles|      21|                5|         9|            3|            3|     1|       1|         nan|       4|       46|          1|      1|         4|      101|       1|       1|       1|       7|\n",
      "|   2014|    Beige|    Guatemala|      1|  Miércoles|      21|                5|         9|            3|            3|     1|       1|         nan|       4|       21|          1|      1|         4|      101|       2|       1|       2|       7|\n",
      "|   2014|     Rojo|    Guatemala|      1|  Miércoles|      30|                7|         9|            5|            5|     1|       1|         nan|       4|       46|          1|      1|         3|      101|       1|       1|       1|       7|\n",
      "|   2014| Amarillo|    Guatemala|      1|  Miércoles|      26|                6|         9|            4|            4|     1|       1|         nan|       4|        2|          1|      1|         9|      101|       1|       1|       4|       7|\n",
      "|   2014|   Blanco|    Guatemala|      1|  Miércoles|      18|                4|         9|            2|            2|     4|       3|         nan|      20|       42|          1|      1|         3|      101|       1|       1|       1|       1|\n",
      "|   2014| Turquesa|    Guatemala|      1|  Miércoles|      27|                6|         9|            4|            4|     4|       3|         nan|      20|        5|          1|      1|         3|      101|       1|       1|       1|       1|\n",
      "|   2014|     Azul|    Escuintla|      1|  Miércoles|      21|                5|         9|            3|            3|     1|       1|         nan|       2|       42|          1|      1|         9|      502|       1|       1|       4|       1|\n",
      "|   2014|    Negro|    Escuintla|      1|  Miércoles|      16|                4|         9|            2|            2|     1|       1|         nan|       2|       37|          2|      1|         9|      502|       1|       1|       4|       1|\n",
      "|   2014|     Azul|   Retalhuleu|      1|  Miércoles|      53|               11|         2|            9|            9|     4|       3|         nan|      18|       23|          1|      1|         9|     1102|       1|       2|       2|      99|\n",
      "|   2014|     Gris| Alta Verapaz|      1|  Miércoles|      56|               12|         2|           10|           10|     1|       1|         nan|       1|       44|          1|      1|         9|     1601|       1|       1|       1|       8|\n",
      "|   2014|    Negro| Alta Verapaz|      1|  Miércoles|      32|                7|         1|            5|            5|     1|       1|         nan|       1|       44|          1|      1|         5|     1601|       1|       1|       3|       8|\n",
      "|   2014|     Rojo|       Izabal|      1|  Miércoles|      23|                5|         2|            3|            3|     2|       1|         nan|       9|       21|          1|      1|         3|     1801|       1|       2|       1|      99|\n",
      "|   2014|     Rojo|Chimaltenango|      1|  Miércoles|      45|               10|         9|            8|            8|     4|       3|         nan|      18|       37|          1|      1|         2|      401|       1|       2|       1|      99|\n",
      "|   2014| Ignorado|        Petén|      1|  Miércoles|Ignorada|               18|         9|           12|           16|     4|       3|         nan|      22|       99|          9|      1|         9|     1703|       9|       1|       1|      99|\n",
      "|   2014| Ignorado|        Petén|      1|  Miércoles|      20|                5|         9|            3|            3|     4|       3|         nan|      22|       99|          1|      1|         9|     1703|       1|       1|       4|      99|\n",
      "|   2014| Ignorado|       Zacapa|      1|  Miércoles|Ignorada|               18|         9|           12|           16|     4|       3|         nan|      22|       99|          9|      1|         9|     1908|       9|       1|       1|      99|\n",
      "|   2014| Ignorado|    Escuintla|      1|  Miércoles|Ignorada|               18|         9|           12|           16|     1|       1|         nan|       2|       99|          9|      1|         9|      501|       9|       1|      99|      99|\n",
      "|   2014| Ignorado|    Escuintla|      1|  Miércoles|Ignorada|               18|         9|           12|           16|     1|       1|         nan|       2|       42|          9|      1|         9|      501|       1|       1|       4|      99|\n",
      "|   2014| Ignorado|        Petén|      2|     Jueves|Ignorada|               18|         9|           12|           16|     4|       3|         nan|      19|       99|          9|      1|         9|     1703|       1|       1|       1|      99|\n",
      "+-------+---------+-------------+-------+-----------+--------+-----------------+----------+-------------+-------------+------+--------+------------+--------+---------+-----------+-------+----------+---------+--------+--------+--------+--------+\n",
      "only showing top 20 rows\n"
     ]
    }
   ],
   "source": [
    "# Lee con pandas\n",
    "pdf = pd.read_excel(\"Vehiculos_concatenado.xlsx\")  # en la misma carpeta\n",
    "pdf = pdf.astype(str)\n",
    "# Convierte a Spark DataFrame\n",
    "df = spark.createDataFrame(pdf)\n",
    "\n",
    "df.show()"
   ]
  },
  {
   "cell_type": "markdown",
   "metadata": {
    "application/vnd.databricks.v1+cell": {
     "cellMetadata": {},
     "inputWidgets": {},
     "nuid": "14c60923-1a57-4a44-8013-c55594eda912",
     "showTitle": false,
     "tableResultSettingsMap": {},
     "title": ""
    }
   },
   "source": [
    "Inciso 5"
   ]
  },
  {
   "cell_type": "code",
   "execution_count": 0,
   "metadata": {
    "application/vnd.databricks.v1+cell": {
     "cellMetadata": {
      "byteLimit": 2048000,
      "rowLimit": 10000
     },
     "inputWidgets": {},
     "nuid": "391dd1c5-4c2c-4590-b995-de0a79ca6e96",
     "showTitle": false,
     "tableResultSettingsMap": {},
     "title": ""
    }
   },
   "outputs": [
    {
     "data": {
      "text/html": [
       "<style scoped>\n",
       "  .table-result-container {\n",
       "    max-height: 300px;\n",
       "    overflow: auto;\n",
       "  }\n",
       "  table, th, td {\n",
       "    border: 1px solid black;\n",
       "    border-collapse: collapse;\n",
       "  }\n",
       "  th, td {\n",
       "    padding: 5px;\n",
       "  }\n",
       "  th {\n",
       "    text-align: left;\n",
       "  }\n",
       "</style><div class='table-result-container'><table class='table-result'><thead style='background-color: white'><tr><th>ano_ocu</th><th>depto_ocu</th><th>count</th></tr></thead><tbody><tr><td>2014</td><td>Alta Verapaz</td><td>289</td></tr><tr><td>2014</td><td>Baja Verapaz</td><td>134</td></tr><tr><td>2014</td><td>Chimaltenango</td><td>296</td></tr><tr><td>2014</td><td>Chiquimula</td><td>170</td></tr><tr><td>2014</td><td>El Progreso</td><td>178</td></tr><tr><td>2014</td><td>Escuintla</td><td>610</td></tr><tr><td>2014</td><td>Guatemala</td><td>2775</td></tr><tr><td>2014</td><td>Huehuetenango</td><td>183</td></tr><tr><td>2014</td><td>Izabal</td><td>370</td></tr><tr><td>2014</td><td>Jalapa</td><td>111</td></tr><tr><td>2014</td><td>Jutiapa</td><td>230</td></tr><tr><td>2014</td><td>Petén</td><td>308</td></tr><tr><td>2014</td><td>Quetzaltenango</td><td>385</td></tr><tr><td>2014</td><td>Quiché</td><td>178</td></tr><tr><td>2014</td><td>Retalhuleu</td><td>181</td></tr><tr><td>2014</td><td>Sacatepéquez</td><td>211</td></tr><tr><td>2014</td><td>San Marcos</td><td>206</td></tr><tr><td>2014</td><td>Santa Rosa</td><td>326</td></tr><tr><td>2014</td><td>Sololá</td><td>139</td></tr><tr><td>2014</td><td>Suchitepéquez</td><td>294</td></tr><tr><td>2014</td><td>Totonicapán</td><td>121</td></tr><tr><td>2014</td><td>Zacapa</td><td>209</td></tr><tr><td>2015</td><td>Alta Verapaz</td><td>422</td></tr><tr><td>2015</td><td>Baja Verapaz</td><td>158</td></tr><tr><td>2015</td><td>Chimaltenango</td><td>380</td></tr><tr><td>2015</td><td>Chiquimula</td><td>227</td></tr><tr><td>2015</td><td>El Progreso</td><td>240</td></tr><tr><td>2015</td><td>Escuintla</td><td>817</td></tr><tr><td>2015</td><td>Guatemala</td><td>3361</td></tr><tr><td>2015</td><td>Huehuetenango</td><td>212</td></tr><tr><td>2015</td><td>Izabal</td><td>408</td></tr><tr><td>2015</td><td>Jalapa</td><td>137</td></tr><tr><td>2015</td><td>Jutiapa</td><td>255</td></tr><tr><td>2015</td><td>Petén</td><td>404</td></tr><tr><td>2015</td><td>Quetzaltenango</td><td>476</td></tr><tr><td>2015</td><td>Quiché</td><td>207</td></tr><tr><td>2015</td><td>Retalhuleu</td><td>274</td></tr><tr><td>2015</td><td>Sacatepéquez</td><td>298</td></tr><tr><td>2015</td><td>San Marcos</td><td>250</td></tr><tr><td>2015</td><td>Santa Rosa</td><td>353</td></tr><tr><td>2015</td><td>Sololá</td><td>188</td></tr><tr><td>2015</td><td>Suchitepéquez</td><td>353</td></tr><tr><td>2015</td><td>Totonicapán</td><td>98</td></tr><tr><td>2015</td><td>Zacapa</td><td>305</td></tr><tr><td>2016</td><td>Alta Verapaz</td><td>422</td></tr><tr><td>2016</td><td>Baja Verapaz</td><td>158</td></tr><tr><td>2016</td><td>Chimaltenango</td><td>380</td></tr><tr><td>2016</td><td>Chiquimula</td><td>227</td></tr><tr><td>2016</td><td>El Progreso</td><td>240</td></tr><tr><td>2016</td><td>Escuintla</td><td>817</td></tr><tr><td>2016</td><td>Guatemala</td><td>3361</td></tr><tr><td>2016</td><td>Huehuetenango</td><td>212</td></tr><tr><td>2016</td><td>Izabal</td><td>408</td></tr><tr><td>2016</td><td>Jalapa</td><td>137</td></tr><tr><td>2016</td><td>Jutiapa</td><td>255</td></tr><tr><td>2016</td><td>Petén</td><td>404</td></tr><tr><td>2016</td><td>Quetzaltenango</td><td>476</td></tr><tr><td>2016</td><td>Quiché</td><td>207</td></tr><tr><td>2016</td><td>Retalhuleu</td><td>274</td></tr><tr><td>2016</td><td>Sacatepéquez</td><td>298</td></tr><tr><td>2016</td><td>San Marcos</td><td>250</td></tr><tr><td>2016</td><td>Santa Rosa</td><td>353</td></tr><tr><td>2016</td><td>Sololá</td><td>188</td></tr><tr><td>2016</td><td>Suchitepéquez</td><td>353</td></tr><tr><td>2016</td><td>Totonicapán</td><td>98</td></tr><tr><td>2016</td><td>Zacapa</td><td>305</td></tr><tr><td>2017</td><td>Alta Verapaz</td><td>336</td></tr><tr><td>2017</td><td>Baja Verapaz</td><td>156</td></tr><tr><td>2017</td><td>Chimaltenango</td><td>332</td></tr><tr><td>2017</td><td>Chiquimula</td><td>174</td></tr><tr><td>2017</td><td>El Progreso</td><td>213</td></tr><tr><td>2017</td><td>Escuintla</td><td>678</td></tr><tr><td>2017</td><td>Guatemala</td><td>3201</td></tr><tr><td>2017</td><td>Huehuetenango</td><td>195</td></tr><tr><td>2017</td><td>Izabal</td><td>297</td></tr><tr><td>2017</td><td>Jalapa</td><td>132</td></tr><tr><td>2017</td><td>Jutiapa</td><td>261</td></tr><tr><td>2017</td><td>Petén</td><td>297</td></tr><tr><td>2017</td><td>Quetzaltenango</td><td>252</td></tr><tr><td>2017</td><td>Quiché</td><td>193</td></tr><tr><td>2017</td><td>Retalhuleu</td><td>225</td></tr><tr><td>2017</td><td>Sacatepéquez</td><td>308</td></tr><tr><td>2017</td><td>San Marcos</td><td>194</td></tr><tr><td>2017</td><td>Santa Rosa</td><td>335</td></tr><tr><td>2017</td><td>Sololá</td><td>166</td></tr><tr><td>2017</td><td>Suchitepéquez</td><td>371</td></tr><tr><td>2017</td><td>Totonicapán</td><td>64</td></tr><tr><td>2017</td><td>Zacapa</td><td>264</td></tr><tr><td>2018</td><td>Alta Verapaz</td><td>355</td></tr><tr><td>2018</td><td>Baja Verapaz</td><td>190</td></tr><tr><td>2018</td><td>Chimaltenango</td><td>347</td></tr><tr><td>2018</td><td>Chiquimula</td><td>275</td></tr><tr><td>2018</td><td>El Progreso</td><td>259</td></tr><tr><td>2018</td><td>Escuintla</td><td>629</td></tr><tr><td>2018</td><td>Guatemala</td><td>4054</td></tr><tr><td>2018</td><td>Huehuetenango</td><td>158</td></tr><tr><td>2018</td><td>Izabal</td><td>318</td></tr><tr><td>2018</td><td>Jalapa</td><td>120</td></tr><tr><td>2018</td><td>Jutiapa</td><td>241</td></tr><tr><td>2018</td><td>Petén</td><td>282</td></tr><tr><td>2018</td><td>Quetzaltenango</td><td>238</td></tr><tr><td>2018</td><td>Quiché</td><td>203</td></tr><tr><td>2018</td><td>Retalhuleu</td><td>245</td></tr><tr><td>2018</td><td>Sacatepéquez</td><td>297</td></tr><tr><td>2018</td><td>San Marcos</td><td>226</td></tr><tr><td>2018</td><td>Santa Rosa</td><td>294</td></tr><tr><td>2018</td><td>Sololá</td><td>138</td></tr><tr><td>2018</td><td>Suchitepéquez</td><td>306</td></tr><tr><td>2018</td><td>Totonicapán</td><td>63</td></tr><tr><td>2018</td><td>Zacapa</td><td>276</td></tr><tr><td>2019</td><td>Alta Verapaz</td><td>453</td></tr><tr><td>2019</td><td>Baja Verapaz</td><td>196</td></tr><tr><td>2019</td><td>Chimaltenango</td><td>407</td></tr><tr><td>2019</td><td>Chiquimula</td><td>222</td></tr><tr><td>2019</td><td>El Progreso</td><td>232</td></tr><tr><td>2019</td><td>Escuintla</td><td>699</td></tr><tr><td>2019</td><td>Guatemala</td><td>4699</td></tr><tr><td>2019</td><td>Huehuetenango</td><td>142</td></tr><tr><td>2019</td><td>Izabal</td><td>374</td></tr><tr><td>2019</td><td>Jalapa</td><td>141</td></tr><tr><td>2019</td><td>Jutiapa</td><td>336</td></tr><tr><td>2019</td><td>Petén</td><td>335</td></tr><tr><td>2019</td><td>Quetzaltenango</td><td>291</td></tr><tr><td>2019</td><td>Quiché</td><td>174</td></tr><tr><td>2019</td><td>Retalhuleu</td><td>329</td></tr><tr><td>2019</td><td>Sacatepéquez</td><td>363</td></tr><tr><td>2019</td><td>San Marcos</td><td>235</td></tr><tr><td>2019</td><td>Santa Rosa</td><td>339</td></tr><tr><td>2019</td><td>Sololá</td><td>197</td></tr><tr><td>2019</td><td>Suchitepéquez</td><td>337</td></tr><tr><td>2019</td><td>Totonicapán</td><td>87</td></tr><tr><td>2019</td><td>Zacapa</td><td>239</td></tr><tr><td>2020</td><td>Alta Verapaz</td><td>470</td></tr><tr><td>2020</td><td>Baja Verapaz</td><td>153</td></tr><tr><td>2020</td><td>Chimaltenango</td><td>338</td></tr><tr><td>2020</td><td>Chiquimula</td><td>204</td></tr><tr><td>2020</td><td>El Progreso</td><td>198</td></tr><tr><td>2020</td><td>Escuintla</td><td>718</td></tr><tr><td>2020</td><td>Guatemala</td><td>4307</td></tr><tr><td>2020</td><td>Huehuetenango</td><td>165</td></tr><tr><td>2020</td><td>Izabal</td><td>344</td></tr><tr><td>2020</td><td>Jalapa</td><td>186</td></tr><tr><td>2020</td><td>Jutiapa</td><td>258</td></tr><tr><td>2020</td><td>Petén</td><td>312</td></tr><tr><td>2020</td><td>Quetzaltenango</td><td>323</td></tr><tr><td>2020</td><td>Quiché</td><td>160</td></tr><tr><td>2020</td><td>Retalhuleu</td><td>340</td></tr><tr><td>2020</td><td>Sacatepéquez</td><td>323</td></tr><tr><td>2020</td><td>San Marcos</td><td>240</td></tr><tr><td>2020</td><td>Santa Rosa</td><td>314</td></tr><tr><td>2020</td><td>Sololá</td><td>116</td></tr><tr><td>2020</td><td>Suchitepéquez</td><td>324</td></tr><tr><td>2020</td><td>Totonicapán</td><td>76</td></tr><tr><td>2020</td><td>Zacapa</td><td>234</td></tr><tr><td>2021</td><td>Alta Verapaz</td><td>580</td></tr><tr><td>2021</td><td>Baja Verapaz</td><td>212</td></tr><tr><td>2021</td><td>Chimaltenango</td><td>452</td></tr><tr><td>2021</td><td>Chiquimula</td><td>253</td></tr><tr><td>2021</td><td>El Progreso</td><td>271</td></tr><tr><td>2021</td><td>Escuintla</td><td>986</td></tr><tr><td>2021</td><td>Guatemala</td><td>5352</td></tr><tr><td>2021</td><td>Huehuetenango</td><td>236</td></tr><tr><td>2021</td><td>Izabal</td><td>379</td></tr><tr><td>2021</td><td>Jalapa</td><td>230</td></tr><tr><td>2021</td><td>Jutiapa</td><td>369</td></tr><tr><td>2021</td><td>Petén</td><td>396</td></tr><tr><td>2021</td><td>Quetzaltenango</td><td>407</td></tr><tr><td>2021</td><td>Quiché</td><td>290</td></tr><tr><td>2021</td><td>Retalhuleu</td><td>361</td></tr><tr><td>2021</td><td>Sacatepéquez</td><td>438</td></tr><tr><td>2021</td><td>San Marcos</td><td>302</td></tr><tr><td>2021</td><td>Santa Rosa</td><td>370</td></tr><tr><td>2021</td><td>Sololá</td><td>161</td></tr><tr><td>2021</td><td>Suchitepéquez</td><td>375</td></tr><tr><td>2021</td><td>Totonicapán</td><td>115</td></tr><tr><td>2021</td><td>Zacapa</td><td>261</td></tr><tr><td>2022</td><td>Alta Verapaz</td><td>528</td></tr><tr><td>2022</td><td>Baja Verapaz</td><td>201</td></tr><tr><td>2022</td><td>Chimaltenango</td><td>444</td></tr><tr><td>2022</td><td>Chiquimula</td><td>205</td></tr><tr><td>2022</td><td>El Progreso</td><td>231</td></tr><tr><td>2022</td><td>Escuintla</td><td>1097</td></tr><tr><td>2022</td><td>Guatemala</td><td>5177</td></tr><tr><td>2022</td><td>Huehuetenango</td><td>176</td></tr><tr><td>2022</td><td>Izabal</td><td>366</td></tr><tr><td>2022</td><td>Jalapa</td><td>189</td></tr><tr><td>2022</td><td>Jutiapa</td><td>372</td></tr><tr><td>2022</td><td>Petén</td><td>350</td></tr><tr><td>2022</td><td>Quetzaltenango</td><td>373</td></tr><tr><td>2022</td><td>Quiché</td><td>240</td></tr><tr><td>2022</td><td>Retalhuleu</td><td>372</td></tr><tr><td>2022</td><td>Sacatepéquez</td><td>503</td></tr><tr><td>2022</td><td>San Marcos</td><td>211</td></tr><tr><td>2022</td><td>Santa Rosa</td><td>373</td></tr><tr><td>2022</td><td>Sololá</td><td>96</td></tr><tr><td>2022</td><td>Suchitepéquez</td><td>364</td></tr><tr><td>2022</td><td>Totonicapán</td><td>125</td></tr><tr><td>2022</td><td>Zacapa</td><td>246</td></tr><tr><td>2023</td><td>Alta Verapaz</td><td>506</td></tr><tr><td>2023</td><td>Baja Verapaz</td><td>212</td></tr><tr><td>2023</td><td>Chimaltenango</td><td>432</td></tr><tr><td>2023</td><td>Chiquimula</td><td>176</td></tr><tr><td>2023</td><td>El Progreso</td><td>251</td></tr><tr><td>2023</td><td>Escuintla</td><td>1369</td></tr><tr><td>2023</td><td>Guatemala</td><td>5110</td></tr><tr><td>2023</td><td>Huehuetenango</td><td>200</td></tr><tr><td>2023</td><td>Izabal</td><td>354</td></tr><tr><td>2023</td><td>Jalapa</td><td>184</td></tr><tr><td>2023</td><td>Jutiapa</td><td>347</td></tr><tr><td>2023</td><td>Petén</td><td>355</td></tr><tr><td>2023</td><td>Quetzaltenango</td><td>371</td></tr><tr><td>2023</td><td>Quiché</td><td>179</td></tr><tr><td>2023</td><td>Retalhuleu</td><td>315</td></tr><tr><td>2023</td><td>Sacatepéquez</td><td>471</td></tr><tr><td>2023</td><td>San Marcos</td><td>282</td></tr><tr><td>2023</td><td>Santa Rosa</td><td>411</td></tr><tr><td>2023</td><td>Sololá</td><td>99</td></tr><tr><td>2023</td><td>Suchitepéquez</td><td>300</td></tr><tr><td>2023</td><td>Totonicapán</td><td>53</td></tr><tr><td>2023</td><td>Zacapa</td><td>220</td></tr></tbody></table></div>"
      ]
     },
     "metadata": {
      "application/vnd.databricks.v1+output": {
       "addedWidgets": {},
       "aggData": [],
       "aggError": "",
       "aggOverflow": false,
       "aggSchema": [],
       "aggSeriesLimitReached": false,
       "aggType": "",
       "arguments": {},
       "columnCustomDisplayInfos": {},
       "data": [
        [
         "2014",
         "Alta Verapaz",
         289
        ],
        [
         "2014",
         "Baja Verapaz",
         134
        ],
        [
         "2014",
         "Chimaltenango",
         296
        ],
        [
         "2014",
         "Chiquimula",
         170
        ],
        [
         "2014",
         "El Progreso",
         178
        ],
        [
         "2014",
         "Escuintla",
         610
        ],
        [
         "2014",
         "Guatemala",
         2775
        ],
        [
         "2014",
         "Huehuetenango",
         183
        ],
        [
         "2014",
         "Izabal",
         370
        ],
        [
         "2014",
         "Jalapa",
         111
        ],
        [
         "2014",
         "Jutiapa",
         230
        ],
        [
         "2014",
         "Petén",
         308
        ],
        [
         "2014",
         "Quetzaltenango",
         385
        ],
        [
         "2014",
         "Quiché",
         178
        ],
        [
         "2014",
         "Retalhuleu",
         181
        ],
        [
         "2014",
         "Sacatepéquez",
         211
        ],
        [
         "2014",
         "San Marcos",
         206
        ],
        [
         "2014",
         "Santa Rosa",
         326
        ],
        [
         "2014",
         "Sololá",
         139
        ],
        [
         "2014",
         "Suchitepéquez",
         294
        ],
        [
         "2014",
         "Totonicapán",
         121
        ],
        [
         "2014",
         "Zacapa",
         209
        ],
        [
         "2015",
         "Alta Verapaz",
         422
        ],
        [
         "2015",
         "Baja Verapaz",
         158
        ],
        [
         "2015",
         "Chimaltenango",
         380
        ],
        [
         "2015",
         "Chiquimula",
         227
        ],
        [
         "2015",
         "El Progreso",
         240
        ],
        [
         "2015",
         "Escuintla",
         817
        ],
        [
         "2015",
         "Guatemala",
         3361
        ],
        [
         "2015",
         "Huehuetenango",
         212
        ],
        [
         "2015",
         "Izabal",
         408
        ],
        [
         "2015",
         "Jalapa",
         137
        ],
        [
         "2015",
         "Jutiapa",
         255
        ],
        [
         "2015",
         "Petén",
         404
        ],
        [
         "2015",
         "Quetzaltenango",
         476
        ],
        [
         "2015",
         "Quiché",
         207
        ],
        [
         "2015",
         "Retalhuleu",
         274
        ],
        [
         "2015",
         "Sacatepéquez",
         298
        ],
        [
         "2015",
         "San Marcos",
         250
        ],
        [
         "2015",
         "Santa Rosa",
         353
        ],
        [
         "2015",
         "Sololá",
         188
        ],
        [
         "2015",
         "Suchitepéquez",
         353
        ],
        [
         "2015",
         "Totonicapán",
         98
        ],
        [
         "2015",
         "Zacapa",
         305
        ],
        [
         "2016",
         "Alta Verapaz",
         422
        ],
        [
         "2016",
         "Baja Verapaz",
         158
        ],
        [
         "2016",
         "Chimaltenango",
         380
        ],
        [
         "2016",
         "Chiquimula",
         227
        ],
        [
         "2016",
         "El Progreso",
         240
        ],
        [
         "2016",
         "Escuintla",
         817
        ],
        [
         "2016",
         "Guatemala",
         3361
        ],
        [
         "2016",
         "Huehuetenango",
         212
        ],
        [
         "2016",
         "Izabal",
         408
        ],
        [
         "2016",
         "Jalapa",
         137
        ],
        [
         "2016",
         "Jutiapa",
         255
        ],
        [
         "2016",
         "Petén",
         404
        ],
        [
         "2016",
         "Quetzaltenango",
         476
        ],
        [
         "2016",
         "Quiché",
         207
        ],
        [
         "2016",
         "Retalhuleu",
         274
        ],
        [
         "2016",
         "Sacatepéquez",
         298
        ],
        [
         "2016",
         "San Marcos",
         250
        ],
        [
         "2016",
         "Santa Rosa",
         353
        ],
        [
         "2016",
         "Sololá",
         188
        ],
        [
         "2016",
         "Suchitepéquez",
         353
        ],
        [
         "2016",
         "Totonicapán",
         98
        ],
        [
         "2016",
         "Zacapa",
         305
        ],
        [
         "2017",
         "Alta Verapaz",
         336
        ],
        [
         "2017",
         "Baja Verapaz",
         156
        ],
        [
         "2017",
         "Chimaltenango",
         332
        ],
        [
         "2017",
         "Chiquimula",
         174
        ],
        [
         "2017",
         "El Progreso",
         213
        ],
        [
         "2017",
         "Escuintla",
         678
        ],
        [
         "2017",
         "Guatemala",
         3201
        ],
        [
         "2017",
         "Huehuetenango",
         195
        ],
        [
         "2017",
         "Izabal",
         297
        ],
        [
         "2017",
         "Jalapa",
         132
        ],
        [
         "2017",
         "Jutiapa",
         261
        ],
        [
         "2017",
         "Petén",
         297
        ],
        [
         "2017",
         "Quetzaltenango",
         252
        ],
        [
         "2017",
         "Quiché",
         193
        ],
        [
         "2017",
         "Retalhuleu",
         225
        ],
        [
         "2017",
         "Sacatepéquez",
         308
        ],
        [
         "2017",
         "San Marcos",
         194
        ],
        [
         "2017",
         "Santa Rosa",
         335
        ],
        [
         "2017",
         "Sololá",
         166
        ],
        [
         "2017",
         "Suchitepéquez",
         371
        ],
        [
         "2017",
         "Totonicapán",
         64
        ],
        [
         "2017",
         "Zacapa",
         264
        ],
        [
         "2018",
         "Alta Verapaz",
         355
        ],
        [
         "2018",
         "Baja Verapaz",
         190
        ],
        [
         "2018",
         "Chimaltenango",
         347
        ],
        [
         "2018",
         "Chiquimula",
         275
        ],
        [
         "2018",
         "El Progreso",
         259
        ],
        [
         "2018",
         "Escuintla",
         629
        ],
        [
         "2018",
         "Guatemala",
         4054
        ],
        [
         "2018",
         "Huehuetenango",
         158
        ],
        [
         "2018",
         "Izabal",
         318
        ],
        [
         "2018",
         "Jalapa",
         120
        ],
        [
         "2018",
         "Jutiapa",
         241
        ],
        [
         "2018",
         "Petén",
         282
        ],
        [
         "2018",
         "Quetzaltenango",
         238
        ],
        [
         "2018",
         "Quiché",
         203
        ],
        [
         "2018",
         "Retalhuleu",
         245
        ],
        [
         "2018",
         "Sacatepéquez",
         297
        ],
        [
         "2018",
         "San Marcos",
         226
        ],
        [
         "2018",
         "Santa Rosa",
         294
        ],
        [
         "2018",
         "Sololá",
         138
        ],
        [
         "2018",
         "Suchitepéquez",
         306
        ],
        [
         "2018",
         "Totonicapán",
         63
        ],
        [
         "2018",
         "Zacapa",
         276
        ],
        [
         "2019",
         "Alta Verapaz",
         453
        ],
        [
         "2019",
         "Baja Verapaz",
         196
        ],
        [
         "2019",
         "Chimaltenango",
         407
        ],
        [
         "2019",
         "Chiquimula",
         222
        ],
        [
         "2019",
         "El Progreso",
         232
        ],
        [
         "2019",
         "Escuintla",
         699
        ],
        [
         "2019",
         "Guatemala",
         4699
        ],
        [
         "2019",
         "Huehuetenango",
         142
        ],
        [
         "2019",
         "Izabal",
         374
        ],
        [
         "2019",
         "Jalapa",
         141
        ],
        [
         "2019",
         "Jutiapa",
         336
        ],
        [
         "2019",
         "Petén",
         335
        ],
        [
         "2019",
         "Quetzaltenango",
         291
        ],
        [
         "2019",
         "Quiché",
         174
        ],
        [
         "2019",
         "Retalhuleu",
         329
        ],
        [
         "2019",
         "Sacatepéquez",
         363
        ],
        [
         "2019",
         "San Marcos",
         235
        ],
        [
         "2019",
         "Santa Rosa",
         339
        ],
        [
         "2019",
         "Sololá",
         197
        ],
        [
         "2019",
         "Suchitepéquez",
         337
        ],
        [
         "2019",
         "Totonicapán",
         87
        ],
        [
         "2019",
         "Zacapa",
         239
        ],
        [
         "2020",
         "Alta Verapaz",
         470
        ],
        [
         "2020",
         "Baja Verapaz",
         153
        ],
        [
         "2020",
         "Chimaltenango",
         338
        ],
        [
         "2020",
         "Chiquimula",
         204
        ],
        [
         "2020",
         "El Progreso",
         198
        ],
        [
         "2020",
         "Escuintla",
         718
        ],
        [
         "2020",
         "Guatemala",
         4307
        ],
        [
         "2020",
         "Huehuetenango",
         165
        ],
        [
         "2020",
         "Izabal",
         344
        ],
        [
         "2020",
         "Jalapa",
         186
        ],
        [
         "2020",
         "Jutiapa",
         258
        ],
        [
         "2020",
         "Petén",
         312
        ],
        [
         "2020",
         "Quetzaltenango",
         323
        ],
        [
         "2020",
         "Quiché",
         160
        ],
        [
         "2020",
         "Retalhuleu",
         340
        ],
        [
         "2020",
         "Sacatepéquez",
         323
        ],
        [
         "2020",
         "San Marcos",
         240
        ],
        [
         "2020",
         "Santa Rosa",
         314
        ],
        [
         "2020",
         "Sololá",
         116
        ],
        [
         "2020",
         "Suchitepéquez",
         324
        ],
        [
         "2020",
         "Totonicapán",
         76
        ],
        [
         "2020",
         "Zacapa",
         234
        ],
        [
         "2021",
         "Alta Verapaz",
         580
        ],
        [
         "2021",
         "Baja Verapaz",
         212
        ],
        [
         "2021",
         "Chimaltenango",
         452
        ],
        [
         "2021",
         "Chiquimula",
         253
        ],
        [
         "2021",
         "El Progreso",
         271
        ],
        [
         "2021",
         "Escuintla",
         986
        ],
        [
         "2021",
         "Guatemala",
         5352
        ],
        [
         "2021",
         "Huehuetenango",
         236
        ],
        [
         "2021",
         "Izabal",
         379
        ],
        [
         "2021",
         "Jalapa",
         230
        ],
        [
         "2021",
         "Jutiapa",
         369
        ],
        [
         "2021",
         "Petén",
         396
        ],
        [
         "2021",
         "Quetzaltenango",
         407
        ],
        [
         "2021",
         "Quiché",
         290
        ],
        [
         "2021",
         "Retalhuleu",
         361
        ],
        [
         "2021",
         "Sacatepéquez",
         438
        ],
        [
         "2021",
         "San Marcos",
         302
        ],
        [
         "2021",
         "Santa Rosa",
         370
        ],
        [
         "2021",
         "Sololá",
         161
        ],
        [
         "2021",
         "Suchitepéquez",
         375
        ],
        [
         "2021",
         "Totonicapán",
         115
        ],
        [
         "2021",
         "Zacapa",
         261
        ],
        [
         "2022",
         "Alta Verapaz",
         528
        ],
        [
         "2022",
         "Baja Verapaz",
         201
        ],
        [
         "2022",
         "Chimaltenango",
         444
        ],
        [
         "2022",
         "Chiquimula",
         205
        ],
        [
         "2022",
         "El Progreso",
         231
        ],
        [
         "2022",
         "Escuintla",
         1097
        ],
        [
         "2022",
         "Guatemala",
         5177
        ],
        [
         "2022",
         "Huehuetenango",
         176
        ],
        [
         "2022",
         "Izabal",
         366
        ],
        [
         "2022",
         "Jalapa",
         189
        ],
        [
         "2022",
         "Jutiapa",
         372
        ],
        [
         "2022",
         "Petén",
         350
        ],
        [
         "2022",
         "Quetzaltenango",
         373
        ],
        [
         "2022",
         "Quiché",
         240
        ],
        [
         "2022",
         "Retalhuleu",
         372
        ],
        [
         "2022",
         "Sacatepéquez",
         503
        ],
        [
         "2022",
         "San Marcos",
         211
        ],
        [
         "2022",
         "Santa Rosa",
         373
        ],
        [
         "2022",
         "Sololá",
         96
        ],
        [
         "2022",
         "Suchitepéquez",
         364
        ],
        [
         "2022",
         "Totonicapán",
         125
        ],
        [
         "2022",
         "Zacapa",
         246
        ],
        [
         "2023",
         "Alta Verapaz",
         506
        ],
        [
         "2023",
         "Baja Verapaz",
         212
        ],
        [
         "2023",
         "Chimaltenango",
         432
        ],
        [
         "2023",
         "Chiquimula",
         176
        ],
        [
         "2023",
         "El Progreso",
         251
        ],
        [
         "2023",
         "Escuintla",
         1369
        ],
        [
         "2023",
         "Guatemala",
         5110
        ],
        [
         "2023",
         "Huehuetenango",
         200
        ],
        [
         "2023",
         "Izabal",
         354
        ],
        [
         "2023",
         "Jalapa",
         184
        ],
        [
         "2023",
         "Jutiapa",
         347
        ],
        [
         "2023",
         "Petén",
         355
        ],
        [
         "2023",
         "Quetzaltenango",
         371
        ],
        [
         "2023",
         "Quiché",
         179
        ],
        [
         "2023",
         "Retalhuleu",
         315
        ],
        [
         "2023",
         "Sacatepéquez",
         471
        ],
        [
         "2023",
         "San Marcos",
         282
        ],
        [
         "2023",
         "Santa Rosa",
         411
        ],
        [
         "2023",
         "Sololá",
         99
        ],
        [
         "2023",
         "Suchitepéquez",
         300
        ],
        [
         "2023",
         "Totonicapán",
         53
        ],
        [
         "2023",
         "Zacapa",
         220
        ]
       ],
       "datasetInfos": [],
       "dbfsResultPath": null,
       "isJsonSchema": true,
       "metadata": {},
       "overflow": false,
       "plotOptions": {
        "customPlotOptions": {},
        "displayType": "table",
        "pivotAggregation": null,
        "pivotColumns": null,
        "xColumns": null,
        "yColumns": null
       },
       "removedWidgets": [],
       "schema": [
        {
         "metadata": "{}",
         "name": "ano_ocu",
         "type": "\"string\""
        },
        {
         "metadata": "{}",
         "name": "depto_ocu",
         "type": "\"string\""
        },
        {
         "metadata": "{}",
         "name": "count",
         "type": "\"long\""
        }
       ],
       "type": "table"
      }
     },
     "output_type": "display_data"
    }
   ],
   "source": [
    "from pyspark.sql import functions as F\n",
    "\n",
    "df_anio_dep = df.groupBy(\"ano_ocu\", \"depto_ocu\") \\\n",
    "    .count() \\\n",
    "    .orderBy(\"ano_ocu\", \"depto_ocu\")\n",
    "\n",
    "display(df_anio_dep) \n"
   ]
  },
  {
   "cell_type": "markdown",
   "metadata": {
    "application/vnd.databricks.v1+cell": {
     "cellMetadata": {},
     "inputWidgets": {},
     "nuid": "4d336e52-e117-48d4-b2a4-415be1459726",
     "showTitle": false,
     "tableResultSettingsMap": {},
     "title": ""
    }
   },
   "source": [
    "Inciso 6"
   ]
  },
  {
   "cell_type": "code",
   "execution_count": 0,
   "metadata": {
    "application/vnd.databricks.v1+cell": {
     "cellMetadata": {
      "byteLimit": 2048000,
      "rowLimit": 10000
     },
     "inputWidgets": {},
     "nuid": "a620e368-f9a9-48d2-86ee-338944948f9d",
     "showTitle": false,
     "tableResultSettingsMap": {},
     "title": ""
    }
   },
   "outputs": [
    {
     "data": {
      "text/html": [
       "<style scoped>\n",
       "  .table-result-container {\n",
       "    max-height: 300px;\n",
       "    overflow: auto;\n",
       "  }\n",
       "  table, th, td {\n",
       "    border: 1px solid black;\n",
       "    border-collapse: collapse;\n",
       "  }\n",
       "  th, td {\n",
       "    padding: 5px;\n",
       "  }\n",
       "  th {\n",
       "    text-align: left;\n",
       "  }\n",
       "</style><div class='table-result-container'><table class='table-result'><thead style='background-color: white'><tr><th>dia_sem_ocu</th><th>count</th></tr></thead><tbody><tr><td>Domingo</td><td>2299</td></tr><tr><td>Sábado</td><td>2272</td></tr><tr><td>Viernes</td><td>1769</td></tr><tr><td>Lunes</td><td>1531</td></tr><tr><td>Jueves</td><td>1473</td></tr><tr><td>Martes</td><td>1440</td></tr><tr><td>Miércoles</td><td>1413</td></tr></tbody></table></div>"
      ]
     },
     "metadata": {
      "application/vnd.databricks.v1+output": {
       "addedWidgets": {},
       "aggData": [],
       "aggError": "",
       "aggOverflow": false,
       "aggSchema": [],
       "aggSeriesLimitReached": false,
       "aggType": "",
       "arguments": {},
       "columnCustomDisplayInfos": {},
       "data": [
        [
         "Domingo",
         2299
        ],
        [
         "Sábado",
         2272
        ],
        [
         "Viernes",
         1769
        ],
        [
         "Lunes",
         1531
        ],
        [
         "Jueves",
         1473
        ],
        [
         "Martes",
         1440
        ],
        [
         "Miércoles",
         1413
        ]
       ],
       "datasetInfos": [],
       "dbfsResultPath": null,
       "isJsonSchema": true,
       "metadata": {},
       "overflow": false,
       "plotOptions": {
        "customPlotOptions": {},
        "displayType": "table",
        "pivotAggregation": null,
        "pivotColumns": null,
        "xColumns": null,
        "yColumns": null
       },
       "removedWidgets": [],
       "schema": [
        {
         "metadata": "{}",
         "name": "dia_sem_ocu",
         "type": "\"string\""
        },
        {
         "metadata": "{}",
         "name": "count",
         "type": "\"long\""
        }
       ],
       "type": "table"
      }
     },
     "output_type": "display_data"
    }
   ],
   "source": [
    "# Filtramos solo los accidentes del año 2023\n",
    "df_2023 = df.filter(F.col(\"ano_ocu\") == \"2023\")\n",
    "\n",
    "# Agrupamos por el día de la semana\n",
    "df_accidentes_dia = df_2023.groupBy(\"dia_sem_ocu\") \\\n",
    "    .count() \\\n",
    "    .orderBy(F.desc(\"count\"))\n",
    "\n",
    "display(df_accidentes_dia)  # en Databricks selecciona gráfico de columnas\n"
   ]
  },
  {
   "cell_type": "markdown",
   "metadata": {
    "application/vnd.databricks.v1+cell": {
     "cellMetadata": {},
     "inputWidgets": {},
     "nuid": "b749960f-a66d-49e6-8c44-0c2e4bd13052",
     "showTitle": false,
     "tableResultSettingsMap": {},
     "title": ""
    }
   },
   "source": [
    "Inciso 7"
   ]
  },
  {
   "cell_type": "code",
   "execution_count": 0,
   "metadata": {
    "application/vnd.databricks.v1+cell": {
     "cellMetadata": {
      "byteLimit": 2048000,
      "rowLimit": 10000
     },
     "inputWidgets": {},
     "nuid": "27419e7d-0237-4fb4-a5f6-8e5b3cfacfe7",
     "showTitle": false,
     "tableResultSettingsMap": {},
     "title": ""
    }
   },
   "outputs": [
    {
     "data": {
      "text/html": [
       "<style scoped>\n",
       "  .table-result-container {\n",
       "    max-height: 300px;\n",
       "    overflow: auto;\n",
       "  }\n",
       "  table, th, td {\n",
       "    border: 1px solid black;\n",
       "    border-collapse: collapse;\n",
       "  }\n",
       "  th, td {\n",
       "    padding: 5px;\n",
       "  }\n",
       "  th {\n",
       "    text-align: left;\n",
       "  }\n",
       "</style><div class='table-result-container'><table class='table-result'><thead style='background-color: white'><tr><th>hora_ocu</th><th>count</th></tr></thead><tbody><tr><td>0</td><td>265</td></tr><tr><td>1</td><td>234</td></tr><tr><td>10</td><td>238</td></tr><tr><td>11</td><td>184</td></tr><tr><td>12</td><td>166</td></tr><tr><td>13</td><td>155</td></tr><tr><td>14</td><td>192</td></tr><tr><td>15</td><td>202</td></tr><tr><td>16</td><td>181</td></tr><tr><td>17</td><td>263</td></tr><tr><td>18</td><td>259</td></tr><tr><td>19</td><td>306</td></tr><tr><td>2</td><td>170</td></tr><tr><td>20</td><td>333</td></tr><tr><td>21</td><td>339</td></tr><tr><td>22</td><td>313</td></tr><tr><td>23</td><td>297</td></tr><tr><td>3</td><td>131</td></tr><tr><td>4</td><td>118</td></tr><tr><td>5</td><td>132</td></tr><tr><td>6</td><td>131</td></tr><tr><td>7</td><td>167</td></tr><tr><td>8</td><td>168</td></tr><tr><td>9</td><td>214</td></tr><tr><td>Ignorada</td><td>8</td></tr></tbody></table></div>"
      ]
     },
     "metadata": {
      "application/vnd.databricks.v1+output": {
       "addedWidgets": {},
       "aggData": [],
       "aggError": "",
       "aggOverflow": false,
       "aggSchema": [],
       "aggSeriesLimitReached": false,
       "aggType": "",
       "arguments": {},
       "columnCustomDisplayInfos": {},
       "data": [
        [
         "0",
         265
        ],
        [
         "1",
         234
        ],
        [
         "10",
         238
        ],
        [
         "11",
         184
        ],
        [
         "12",
         166
        ],
        [
         "13",
         155
        ],
        [
         "14",
         192
        ],
        [
         "15",
         202
        ],
        [
         "16",
         181
        ],
        [
         "17",
         263
        ],
        [
         "18",
         259
        ],
        [
         "19",
         306
        ],
        [
         "2",
         170
        ],
        [
         "20",
         333
        ],
        [
         "21",
         339
        ],
        [
         "22",
         313
        ],
        [
         "23",
         297
        ],
        [
         "3",
         131
        ],
        [
         "4",
         118
        ],
        [
         "5",
         132
        ],
        [
         "6",
         131
        ],
        [
         "7",
         167
        ],
        [
         "8",
         168
        ],
        [
         "9",
         214
        ],
        [
         "Ignorada",
         8
        ]
       ],
       "datasetInfos": [],
       "dbfsResultPath": null,
       "isJsonSchema": true,
       "metadata": {},
       "overflow": false,
       "plotOptions": {
        "customPlotOptions": {},
        "displayType": "table",
        "pivotAggregation": null,
        "pivotColumns": null,
        "xColumns": null,
        "yColumns": null
       },
       "removedWidgets": [],
       "schema": [
        {
         "metadata": "{}",
         "name": "hora_ocu",
         "type": "\"string\""
        },
        {
         "metadata": "{}",
         "name": "count",
         "type": "\"long\""
        }
       ],
       "type": "table"
      }
     },
     "output_type": "display_data"
    },
    {
     "data": {
      "text/plain": [
       "Databricks visualization. Run in Databricks to view."
      ]
     },
     "metadata": {
      "application/vnd.databricks.v1.subcommand+json": {
       "baseErrorDetails": null,
       "bindings": {},
       "collapsed": false,
       "command": "%python\n__backend_agg_display_orig = display\n__backend_agg_dfs = []\ndef __backend_agg_display_new(df):\n    __backend_agg_df_modules = [\"pandas.core.frame\", \"databricks.koalas.frame\", \"pyspark.sql.dataframe\", \"pyspark.pandas.frame\", \"pyspark.sql.connect.dataframe\"]\n    if (type(df).__module__ in __backend_agg_df_modules and type(df).__name__ == 'DataFrame') or isinstance(df, list):\n        __backend_agg_dfs.append(df)\n\ndisplay = __backend_agg_display_new\n\ndef __backend_agg_user_code_fn():\n    import base64\n    exec(base64.standard_b64decode(\"ZnJvbSBweXNwYXJrLnNxbCBpbXBvcnQgZnVuY3Rpb25zIGFzIEYKCiMgRmlsdHJhciBzb2xvIGxvcyBhY2NpZGVudGVzIGRlbCBtdW5pY2lwaW8gZGUgR3VhdGVtYWxhCmRmX2d0ID0gZGYuZmlsdGVyKEYuY29sKCJtdXBpb19vY3UiKSA9PSAiR3VhdGVtYWxhIikKCiMgQWdydXBhciBwb3IgaG9yYV9vY3UgKHlhIGVzIGRlIDAgYSAyMykKZGZfaG9yYXMgPSBkZl9ndC5ncm91cEJ5KCJob3JhX29jdSIpIFwKICAgIC5jb3VudCgpIFwKICAgIC5vcmRlckJ5KCJob3JhX29jdSIpCgpkaXNwbGF5KGRmX2hvcmFzKSAgIyBlbiBEYXRhYnJpY2tzIHNlbGVjY2lvbmFzICJoaXN0b2dyYW1hIgo=\").decode())\n\ntry:\n    # run user code\n    __backend_agg_user_code_fn()\n\n    #reset display function\n    display = __backend_agg_display_orig\n\n    if len(__backend_agg_dfs) > 0:\n        # create a temp view\n        if type(__backend_agg_dfs[0]).__module__ == \"databricks.koalas.frame\":\n            # koalas dataframe\n            __backend_agg_dfs[0].to_spark().createOrReplaceTempView(\"DatabricksViewd651515\")\n        elif type(__backend_agg_dfs[0]).__module__ == \"pandas.core.frame\" or isinstance(__backend_agg_dfs[0], list):\n            # pandas dataframe\n            spark.createDataFrame(__backend_agg_dfs[0]).createOrReplaceTempView(\"DatabricksViewd651515\")\n        else:\n            __backend_agg_dfs[0].createOrReplaceTempView(\"DatabricksViewd651515\")\n        #run backend agg\n        display(spark.sql(\"\"\"WITH q AS (select * from DatabricksViewd651515) SELECT `hora_ocu`,SUM(`count`) `column_a4e4a297235` FROM q GROUP BY `hora_ocu`\"\"\"))\n    else:\n        displayHTML(\"dataframe no longer exists. If you're using dataframe.display(), use display(dataframe) instead.\")\n\n\nfinally:\n    spark.sql(\"drop view if exists DatabricksViewd651515\")\n    display = __backend_agg_display_orig\n    del __backend_agg_display_new\n    del __backend_agg_display_orig\n    del __backend_agg_dfs\n    del __backend_agg_user_code_fn\n\n",
       "commandTitle": "Visualization 1",
       "commandType": "auto",
       "commandVersion": 0,
       "commentThread": [],
       "commentsVisible": false,
       "contentSha256Hex": null,
       "customPlotOptions": {
        "redashChart": [
         {
          "key": "type",
          "value": "CHART"
         },
         {
          "key": "options",
          "value": {
           "alignYAxesAtZero": true,
           "coefficient": 1,
           "columnConfigurationMap": {
            "x": {
             "column": "hora_ocu",
             "id": "column_a4e4a297234"
            },
            "y": [
             {
              "column": "count",
              "id": "column_a4e4a297235",
              "transform": "SUM"
             }
            ]
           },
           "dateTimeFormat": "DD/MM/YYYY HH:mm",
           "direction": {
            "type": "counterclockwise"
           },
           "error_y": {
            "type": "data",
            "visible": true
           },
           "globalSeriesType": "column",
           "legend": {
            "traceorder": "normal"
           },
           "missingValuesAsZero": true,
           "numberFormat": "0,0.[00000]",
           "percentFormat": "0[.]00%",
           "series": {
            "error_y": {
             "type": "data",
             "visible": true
            },
            "stacking": null
           },
           "seriesOptions": {
            "column_a4e4a297235": {
             "name": "count",
             "yAxis": 0
            }
           },
           "showDataLabels": false,
           "sizemode": "diameter",
           "sortX": true,
           "sortY": true,
           "swappedAxes": true,
           "textFormat": "",
           "useAggregationsUi": true,
           "valuesOptions": {},
           "version": 2,
           "xAxis": {
            "labels": {
             "enabled": true
            },
            "type": "-"
           },
           "yAxis": [
            {
             "type": "-"
            },
            {
             "opposite": true,
             "type": "-"
            }
           ]
          }
         }
        ]
       },
       "datasetPreviewNameToCmdIdMap": {},
       "diffDeletes": [],
       "diffInserts": [],
       "displayType": "redashChart",
       "error": null,
       "errorDetails": null,
       "errorSummary": null,
       "errorTraceType": null,
       "finishTime": 0,
       "globalVars": {},
       "guid": "",
       "height": "auto",
       "hideCommandCode": false,
       "hideCommandResult": false,
       "iPythonMetadata": null,
       "inputWidgets": {},
       "isLockedInExamMode": false,
       "latestAssumeRoleInfo": null,
       "latestUser": "a user",
       "latestUserId": null,
       "listResultMetadata": null,
       "metadata": {},
       "nuid": "14a7fc65-d135-43ba-a62f-38216bf3c74b",
       "origId": 0,
       "parentHierarchy": [],
       "pivotAggregation": null,
       "pivotColumns": null,
       "position": 39,
       "resultDbfsErrorMessage": null,
       "resultDbfsStatus": "INLINED_IN_TREE",
       "results": null,
       "showCommandTitle": false,
       "startTime": 0,
       "state": "input",
       "streamStates": {},
       "subcommandOptions": {
        "queryPlan": {
         "groups": [
          {
           "column": "hora_ocu",
           "type": "column"
          }
         ],
         "selects": [
          {
           "column": "hora_ocu",
           "type": "column"
          },
          {
           "alias": "column_a4e4a297235",
           "args": [
            {
             "column": "count",
             "type": "column"
            }
           ],
           "function": "SUM",
           "type": "function"
          }
         ]
        }
       },
       "submitTime": 0,
       "subtype": "tableResultSubCmd.visualization",
       "tableResultIndex": 0,
       "tableResultSettingsMap": {},
       "useConsistentColors": false,
       "version": "CommandV1",
       "width": "auto",
       "workflows": [],
       "xColumns": null,
       "yColumns": null
      }
     },
     "output_type": "display_data"
    }
   ],
   "source": [
    "from pyspark.sql import functions as F\n",
    "\n",
    "# Filtrar solo los accidentes del municipio de Guatemala\n",
    "df_gt = df.filter(F.col(\"mupio_ocu\") == \"Guatemala\")\n",
    "\n",
    "# Agrupar por hora_ocu (ya es de 0 a 23)\n",
    "df_horas = df_gt.groupBy(\"hora_ocu\") \\\n",
    "    .count() \\\n",
    "    .orderBy(\"hora_ocu\")\n",
    "\n",
    "display(df_horas)  # en Databricks seleccionas \"histograma\"\n"
   ]
  }
 ],
 "metadata": {
  "application/vnd.databricks.v1+notebook": {
   "computePreferences": null,
   "dashboards": [],
   "environmentMetadata": null,
   "inputWidgetPreferences": null,
   "language": "python",
   "notebookMetadata": {
    "pythonIndentUnit": 4
   },
   "notebookName": "Lab8 (1)",
   "widgets": {}
  },
  "kernelspec": {
   "display_name": "Python (SparkLab)",
   "language": "python",
   "name": "spark-lab"
  },
  "language_info": {
   "name": "python"
  }
 },
 "nbformat": 4,
 "nbformat_minor": 0
}
