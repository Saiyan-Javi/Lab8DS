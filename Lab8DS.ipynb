{
 "cells": [
  {
   "cell_type": "code",
   "execution_count": 1,
   "id": "4ae8a4b2",
   "metadata": {},
   "outputs": [
    {
     "name": "stdout",
     "output_type": "stream",
     "text": [
      "Requirement already satisfied: pandas in c:\\users\\javier chiquin\\appdata\\local\\programs\\python\\python312\\lib\\site-packages (2.3.1)\n",
      "Collecting pyreadstat\n",
      "  Downloading pyreadstat-1.3.1-cp312-cp312-win_amd64.whl.metadata (1.3 kB)\n",
      "Requirement already satisfied: openpyxl in c:\\users\\javier chiquin\\appdata\\local\\programs\\python\\python312\\lib\\site-packages (3.1.5)\n",
      "Requirement already satisfied: numpy>=1.26.0 in c:\\users\\javier chiquin\\appdata\\local\\programs\\python\\python312\\lib\\site-packages (from pandas) (2.1.3)\n",
      "Requirement already satisfied: python-dateutil>=2.8.2 in c:\\users\\javier chiquin\\appdata\\roaming\\python\\python312\\site-packages (from pandas) (2.9.0.post0)\n",
      "Requirement already satisfied: pytz>=2020.1 in c:\\users\\javier chiquin\\appdata\\local\\programs\\python\\python312\\lib\\site-packages (from pandas) (2025.2)\n",
      "Requirement already satisfied: tzdata>=2022.7 in c:\\users\\javier chiquin\\appdata\\local\\programs\\python\\python312\\lib\\site-packages (from pandas) (2025.2)\n",
      "Collecting narwhals>=2.0 (from pyreadstat)\n",
      "  Downloading narwhals-2.6.0-py3-none-any.whl.metadata (11 kB)\n",
      "Requirement already satisfied: et-xmlfile in c:\\users\\javier chiquin\\appdata\\local\\programs\\python\\python312\\lib\\site-packages (from openpyxl) (2.0.0)\n",
      "Requirement already satisfied: six>=1.5 in c:\\users\\javier chiquin\\appdata\\roaming\\python\\python312\\site-packages (from python-dateutil>=2.8.2->pandas) (1.17.0)\n",
      "Downloading pyreadstat-1.3.1-cp312-cp312-win_amd64.whl (2.4 MB)\n",
      "   ---------------------------------------- 0.0/2.4 MB ? eta -:--:--\n",
      "   ---------------------------------------  2.4/2.4 MB 19.1 MB/s eta 0:00:01\n",
      "   ---------------------------------------- 2.4/2.4 MB 15.1 MB/s eta 0:00:00\n",
      "Downloading narwhals-2.6.0-py3-none-any.whl (408 kB)\n",
      "Installing collected packages: narwhals, pyreadstat\n",
      "Successfully installed narwhals-2.6.0 pyreadstat-1.3.1\n",
      "Note: you may need to restart the kernel to use updated packages.\n"
     ]
    },
    {
     "name": "stderr",
     "output_type": "stream",
     "text": [
      "\n",
      "[notice] A new release of pip is available: 24.2 -> 25.2\n",
      "[notice] To update, run: python.exe -m pip install --upgrade pip\n"
     ]
    }
   ],
   "source": [
    "pip install pandas pyreadstat openpyxl"
   ]
  },
  {
   "cell_type": "code",
   "execution_count": 3,
   "id": "6f9f2771",
   "metadata": {},
   "outputs": [
    {
     "name": "stdout",
     "output_type": "stream",
     "text": [
      "✅ Archivo SPSS '2021.sav' cargado exitosamente. Se encontraron 10544 registros.\n",
      "✅ Conversión finalizada. El archivo Excel se guardó en: c:\\Users\\Javier Chiquin\\OneDrive\\Documents\\UVG\\Cuarto año\\Segundo Semestre\\Data Science\\Lab8DS\\2021.xlsx\n"
     ]
    }
   ],
   "source": [
    "import pandas as pd\n",
    "import os\n",
    "\n",
    "# --- Configuración de Archivos ---\n",
    "# Reemplaza 'nombre_archivo.sav' con la ruta y nombre de tu archivo SPSS\n",
    "archivo_spss = '2021.sav'\n",
    "# Reemplaza 'salida.xlsx' con el nombre que deseas para el archivo Excel\n",
    "archivo_excel = '2021.xlsx'\n",
    "\n",
    "# --- 1. Lectura del archivo SPSS (.sav) ---\n",
    "try:\n",
    "    # pd.read_spss() lee el archivo SPSS y lo convierte en un DataFrame de pandas\n",
    "    # Si tu archivo tiene etiquetas de valor (value labels),\n",
    "    # puedes usar pyreadstat directamente para manejarlas,\n",
    "    # pero para una conversión simple, read_spss() es suficiente.\n",
    "    df = pd.read_spss(archivo_spss)\n",
    "    print(f\"✅ Archivo SPSS '{archivo_spss}' cargado exitosamente. Se encontraron {len(df)} registros.\")\n",
    "\n",
    "except FileNotFoundError:\n",
    "    print(f\"❌ ERROR: No se encontró el archivo '{archivo_spss}'.\")\n",
    "    exit()\n",
    "except ImportError:\n",
    "    print(\"❌ ERROR: La librería 'pyreadstat' no está instalada o falló al cargar el archivo.\")\n",
    "    print(\"Por favor, ejecuta: pip install pyreadstat\")\n",
    "    exit()\n",
    "except Exception as e:\n",
    "    print(f\"❌ Ocurrió un error al leer el archivo SPSS: {e}\")\n",
    "    exit()\n",
    "\n",
    "# --- 2. Escritura en formato Excel (.xlsx) ---\n",
    "try:\n",
    "    # .to_excel() guarda el DataFrame de pandas en un archivo Excel.\n",
    "    # index=False evita escribir el índice del DataFrame como una columna en Excel.\n",
    "    df.to_excel(archivo_excel, index=False)\n",
    "\n",
    "    ruta_absoluta = os.path.abspath(archivo_excel)\n",
    "    print(f\"✅ Conversión finalizada. El archivo Excel se guardó en: {ruta_absoluta}\")\n",
    "\n",
    "except ImportError:\n",
    "    print(\"❌ ERROR: La librería 'openpyxl' no está instalada.\")\n",
    "    print(\"Por favor, ejecuta: pip install openpyxl\")\n",
    "    exit()\n",
    "except Exception as e:\n",
    "    print(f\"❌ Ocurrió un error al escribir el archivo Excel: {e}\")\n",
    "    exit()"
   ]
  },
  {
   "cell_type": "code",
   "execution_count": 4,
   "id": "077c1dbd",
   "metadata": {},
   "outputs": [
    {
     "name": "stdout",
     "output_type": "stream",
     "text": [
      "Requirement already satisfied: pandas in c:\\users\\javier chiquin\\appdata\\local\\programs\\python\\python312\\lib\\site-packages (2.3.1)\n",
      "Requirement already satisfied: openpyxl in c:\\users\\javier chiquin\\appdata\\local\\programs\\python\\python312\\lib\\site-packages (3.1.5)\n",
      "Requirement already satisfied: numpy>=1.26.0 in c:\\users\\javier chiquin\\appdata\\local\\programs\\python\\python312\\lib\\site-packages (from pandas) (2.1.3)\n",
      "Requirement already satisfied: python-dateutil>=2.8.2 in c:\\users\\javier chiquin\\appdata\\roaming\\python\\python312\\site-packages (from pandas) (2.9.0.post0)\n",
      "Requirement already satisfied: pytz>=2020.1 in c:\\users\\javier chiquin\\appdata\\local\\programs\\python\\python312\\lib\\site-packages (from pandas) (2025.2)\n",
      "Requirement already satisfied: tzdata>=2022.7 in c:\\users\\javier chiquin\\appdata\\local\\programs\\python\\python312\\lib\\site-packages (from pandas) (2025.2)\n",
      "Requirement already satisfied: et-xmlfile in c:\\users\\javier chiquin\\appdata\\local\\programs\\python\\python312\\lib\\site-packages (from openpyxl) (2.0.0)\n",
      "Requirement already satisfied: six>=1.5 in c:\\users\\javier chiquin\\appdata\\roaming\\python\\python312\\site-packages (from python-dateutil>=2.8.2->pandas) (1.17.0)\n",
      "Note: you may need to restart the kernel to use updated packages.\n"
     ]
    },
    {
     "name": "stderr",
     "output_type": "stream",
     "text": [
      "\n",
      "[notice] A new release of pip is available: 24.2 -> 25.2\n",
      "[notice] To update, run: python.exe -m pip install --upgrade pip\n"
     ]
    }
   ],
   "source": [
    "pip install pandas openpyxl"
   ]
  },
  {
   "cell_type": "code",
   "execution_count": 5,
   "id": "9abb7d09",
   "metadata": {},
   "outputs": [
    {
     "name": "stdout",
     "output_type": "stream",
     "text": [
      "Iniciando la concatenación de archivos Excel de 2014 a 2023...\n",
      "   ✅ Leído: 2014.xlsx\n",
      "   ✅ Leído: 2015.xlsx\n",
      "   ✅ Leído: 2016.xlsx\n",
      "   ✅ Leído: 2017.xlsx\n",
      "   ✅ Leído: 2018.xlsx\n",
      "   ✅ Leído: 2019.xlsx\n",
      "   ✅ Leído: 2020.xlsx\n",
      "   ✅ Leído: 2021.xlsx\n",
      "   ✅ Leído: 2022.xlsx\n",
      "   ✅ Leído: 2023.xlsx\n",
      "\n",
      "--- RESUMEN ---\n",
      "✅ CONCATENACIÓN EXITOSA: Se unieron 10 archivos.\n",
      "Total de filas en el archivo final: 100357\n",
      "Archivo guardado como: c:\\Users\\Javier Chiquin\\OneDrive\\Documents\\UVG\\Cuarto año\\Segundo Semestre\\Data Science\\Lab8DS\\fallecimientos_lesionados_totales.xlsx\n"
     ]
    }
   ],
   "source": [
    "import pandas as pd\n",
    "import glob\n",
    "import os\n",
    "\n",
    "# --- Configuración de Parámetros ---\n",
    "\n",
    "# Define el rango de años de tus archivos\n",
    "ANIO_INICIO = 2014\n",
    "ANIO_FIN = 2023\n",
    "\n",
    "# Nombre del archivo de salida\n",
    "NOMBRE_SALIDA = 'fallecimientos_lesionados_totales.xlsx'\n",
    "\n",
    "# Lista para almacenar todos los DataFrames\n",
    "todos_los_datos = []\n",
    "archivos_encontrados = 0\n",
    "\n",
    "print(f\"Iniciando la concatenación de archivos Excel de {ANIO_INICIO} a {ANIO_FIN}...\")\n",
    "\n",
    "# --- Proceso de Lectura y Concatenación ---\n",
    "\n",
    "for anio in range(ANIO_INICIO, ANIO_FIN + 1):\n",
    "    # Crea un patrón de búsqueda para el archivo de cada año\n",
    "    # Por ejemplo: '*2014*.xlsx', '*2015*.xlsx', etc.\n",
    "    patron_busqueda = f'*{anio}*.xlsx'\n",
    "    \n",
    "    # Busca el archivo que coincida con el patrón. glob.glob devuelve una lista.\n",
    "    # Se toma el primer archivo encontrado con ese año.\n",
    "    archivo = glob.glob(patron_busqueda)\n",
    "\n",
    "    if archivo:\n",
    "        ruta_archivo = archivo[0]\n",
    "        try:\n",
    "            # Lee el archivo Excel. Por defecto, lee la primera hoja.\n",
    "            # Si tus datos están en una hoja específica (ej: 'Hoja1'), usa:\n",
    "            # df_temp = pd.read_excel(ruta_archivo, sheet_name='Hoja1')\n",
    "            df_temp = pd.read_excel(ruta_archivo)\n",
    "            \n",
    "            # **OPCIONAL:** Agrega una columna de Año para saber a qué archivo pertenecía cada registro\n",
    "            df_temp['Año_Origen'] = anio\n",
    "            \n",
    "            # Agrega el DataFrame temporal a la lista\n",
    "            todos_los_datos.append(df_temp)\n",
    "            archivos_encontrados += 1\n",
    "            print(f\"   ✅ Leído: {os.path.basename(ruta_archivo)}\")\n",
    "            \n",
    "        except Exception as e:\n",
    "            print(f\"   ❌ ERROR al leer {ruta_archivo}: {e}\")\n",
    "            \n",
    "    else:\n",
    "        print(f\"   ⚠️ Advertencia: No se encontró ningún archivo para el año {anio} con el patrón '{patron_busqueda}'\")\n",
    "\n",
    "# Verifica si se encontró algún archivo\n",
    "if not todos_los_datos:\n",
    "    print(\"\\n❌ FINALIZADO: No se encontró ningún archivo para concatenar. Verifica tus nombres de archivo.\")\n",
    "else:\n",
    "    # Concatena todos los DataFrames de la lista en uno solo\n",
    "    df_final = pd.concat(todos_los_datos, ignore_index=True)\n",
    "    \n",
    "    # --- Escritura del Archivo Final ---\n",
    "    try:\n",
    "        df_final.to_excel(NOMBRE_SALIDA, index=False)\n",
    "        ruta_absoluta = os.path.abspath(NOMBRE_SALIDA)\n",
    "        \n",
    "        print(\"\\n--- RESUMEN ---\")\n",
    "        print(f\"✅ CONCATENACIÓN EXITOSA: Se unieron {archivos_encontrados} archivos.\")\n",
    "        print(f\"Total de filas en el archivo final: {len(df_final)}\")\n",
    "        print(f\"Archivo guardado como: {ruta_absoluta}\")\n",
    "        \n",
    "    except Exception as e:\n",
    "        print(f\"\\n❌ ERROR al escribir el archivo final '{NOMBRE_SALIDA}': {e}\")"
   ]
  }
 ],
 "metadata": {
  "kernelspec": {
   "display_name": "Python 3",
   "language": "python",
   "name": "python3"
  },
  "language_info": {
   "codemirror_mode": {
    "name": "ipython",
    "version": 3
   },
   "file_extension": ".py",
   "mimetype": "text/x-python",
   "name": "python",
   "nbconvert_exporter": "python",
   "pygments_lexer": "ipython3",
   "version": "3.12.7"
  }
 },
 "nbformat": 4,
 "nbformat_minor": 5
}
